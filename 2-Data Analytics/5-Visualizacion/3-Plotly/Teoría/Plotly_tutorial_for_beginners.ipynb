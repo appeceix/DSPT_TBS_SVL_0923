{
 "cells": [
  {
   "cell_type": "markdown",
   "metadata": {
    "_cell_guid": "a67c3ce8-7a21-4dd4-a774-6cab3a074365",
    "_uuid": "d361a5370cf8a36c8fe8445d001e9caf35d6700d",
    "id": "p6NfWbHiiJO_"
   },
   "source": [
    "# INTRODUCTION\n",
    "* En este Kernel, aprenderemos a utilizar la biblioteca plotly.\n",
    "    * Biblioteca Plotly: La biblioteca de gráficos de Python de Plotly hace gráficos interactivos de calidad para la publicación en línea. Ejemplos de cómo hacer gráficos de líneas, gráficos de dispersión, gráficos de área, gráficos de barras, barras de error, gráficos de caja, histogramas, mapas de calor, subplots, ejes múltiples, gráficos polares y gráficos de burbujas.\n",
    "\n",
    "<br>Contenido y enlaces clave:\n",
    "1. [Loading Data and Explanation of Features](#1)\n",
    "1. [Line Charts](#2)\n",
    "1. [Scatter Charts](#3)\n",
    "1. [Bar Charts](#4)\n",
    "1. [Pie Charts](#5)\n",
    "1. [Bubble Charts](#6)\n",
    "1. [Histogram](#7)\n",
    "1. [Word Cloud](#8)\n",
    "1. [Box Plot](#9)\n",
    "1. [Scatter Plot Matrix](#10)\n",
    "1. Map Plots: https://www.kaggle.com/kanncaa1/time-series-prediction-with-eda-of-world-war-2\n",
    "1. Data Visualization\n",
    "    1. Seaborn: https://www.kaggle.com/kanncaa1/seaborn-for-beginners\n",
    "    1. Bokeh 1: https://www.kaggle.com/kanncaa1/interactive-bokeh-tutorial-part-1\n",
    "    1. Bokeh 2: https://www.kaggle.com/kanncaa1/interactive-bokeh-tutorial-part-\n",
    "    1. Rare Visualization: https://www.kaggle.com/kanncaa1/rare-visualization-tools\n",
    "1. [Inset Plots](#11)\n",
    "1. [3D Scatter Plot with Colorscaling](#12)\n",
    "1. [Multiple Subplots](#13)\n",
    "1. Earthquake Animation: https://www.kaggle.com/kanncaa1/earthquake-animation-with-plotly\n",
    "\n"
   ]
  },
  {
   "cell_type": "code",
   "execution_count": null,
   "metadata": {
    "id": "jkPSz6MxiJPA"
   },
   "outputs": [],
   "source": [
    "!pip install plotly\n",
    "!pip install wordcloud"
   ]
  },
  {
   "cell_type": "code",
   "execution_count": null,
   "metadata": {
    "_cell_guid": "b1076dfc-b9ad-4769-8c92-a6c4dae69d19",
    "_kg_hide-input": true,
    "_kg_hide-output": false,
    "_uuid": "8f2839f25d086af736a60e9eeb907d3b93b6e0e5",
    "id": "WyA1_kMPiJPD",
    "outputId": "3e34c1fa-e412-4a4e-fe49-731abdd9163a"
   },
   "outputs": [],
   "source": [
    "import numpy as np \n",
    "import pandas as pd \n",
    "\n",
    "\n",
    "from plotly.offline import init_notebook_mode, iplot, plot\n",
    "import plotly as py\n",
    "init_notebook_mode(connected=True)\n",
    "import plotly.graph_objs as go\n",
    "\n",
    "# word cloud library\n",
    "from wordcloud import WordCloud\n",
    "\n",
    "# matplotlib\n",
    "import matplotlib.pyplot as plt\n",
    "\n",
    "import os\n",
    "print(os.listdir(\"./data\"))\n",
    "\n",
    "# Any results you write to the current directory are saved as output.\n",
    "\n",
    "import warnings\n",
    "warnings.filterwarnings(\"ignore\")"
   ]
  },
  {
   "cell_type": "markdown",
   "metadata": {
    "_cell_guid": "cd9ba55f-8030-438e-824c-608dc9cd1ebf",
    "_uuid": "15f98cf2c7db5fbb4c91b014e8e76f2207e39e44",
    "id": "xjz7990DiJPH"
   },
   "source": [
    "<a id=\"1\"></a> <br>\n",
    "# Carga de datos y explicación de las columnas\n",
    "<font color='red'>\n",
    "* timesData incluye 14 columnas que son:\n",
    "    <font color='black'>\n",
    "        \n",
    "    * world_rank             \n",
    "    * university_name       \n",
    "    * country               \n",
    "    * teaching                \n",
    "    * international            \n",
    "    * research                 \n",
    "    * citations                \n",
    "    * income                   \n",
    "    * total_score              \n",
    "    * num_students             \n",
    "    * student_staff_ratio      \n",
    "    * international_students   \n",
    "    * female_male_ratio        \n",
    "    * year "
   ]
  },
  {
   "cell_type": "code",
   "execution_count": null,
   "metadata": {
    "_cell_guid": "79c7e3d0-c299-4dcb-8224-4455121ee9b0",
    "_uuid": "d629ff2d2480ee46fbb7e2d37f6b5fab8052498a",
    "id": "6h_tBh_LiJPH",
    "outputId": "9145e207-aed9-41b2-8f1e-62886df3672c",
    "scrolled": true
   },
   "outputs": [],
   "source": [
    "#py.offline.init_notebook_mode(connected=True) \n",
    "# Cargar los datos que vamos a utilizar.\n",
    "timesData = pd.read_csv(\"./data/timesData.csv\")"
   ]
  },
  {
   "cell_type": "code",
   "execution_count": null,
   "metadata": {
    "_cell_guid": "0ffc5e26-97d3-4477-8c36-d987a1ff0cb8",
    "_uuid": "28e742b608e663425246b7322c3cff5bf7ac0464",
    "id": "ZewRT0U6iJPK",
    "outputId": "f785c447-4a58-4298-9815-fb3af17bac14"
   },
   "outputs": [],
   "source": [
    "# información sobre timesData\n",
    "timesData.info()"
   ]
  },
  {
   "cell_type": "code",
   "execution_count": null,
   "metadata": {
    "_cell_guid": "db6a7739-9157-4f6f-80a7-2e8a8add9651",
    "_uuid": "c8208716fca06ddc8a814fa79e70aa19f56fe50e",
    "id": "EgFRagJbiJPM",
    "outputId": "4867abfa-b0a8-4a8e-949b-4ba89ed7ab8a"
   },
   "outputs": [],
   "source": [
    "timesData.head(10)"
   ]
  },
  {
   "cell_type": "code",
   "execution_count": null,
   "metadata": {},
   "outputs": [],
   "source": [
    "timesData['year'].unique()"
   ]
  },
  {
   "cell_type": "markdown",
   "metadata": {
    "_cell_guid": "a6a4cbfe-00d0-405d-b0ed-b7c2bafabce2",
    "_uuid": "f9fd9183b43248f5afb83f4a228f092b8ea78b75",
    "id": "R_i4FT-hiJPP"
   },
   "source": [
    "<a id=\"2\"></a> <br>\n",
    "# Gráficos de líneas\n",
    "Ejemplo de gráficos de líneas: Citación y enseñanza frente a la clasificación mundial de las 100 mejores universidades\n",
    "* Import graph_objs as *go*\n",
    "* Creating traces\n",
    "    * x = x axis\n",
    "    * y = y axis\n",
    "    * mode = type of plot like marker, line or line + markers\n",
    "    * name = name of the plots\n",
    "    * marker = marker is used with dictionary. \n",
    "        * color = color of lines. It takes RGB (red, green, blue) and opacity (alpha)\n",
    "    * text = The hover text (hover is curser)\n",
    "* data = is a list that we add traces into it\n",
    "* layout = it is dictionary.\n",
    "    * title = title of layout\n",
    "    * x axis = it is dictionary\n",
    "        * title = label of x axis\n",
    "        * ticklen = length of x axis ticks\n",
    "* fig = it includes data and layout\n",
    "* iplot() = plots the figure(fig) that is created by data and layout"
   ]
  },
  {
   "cell_type": "code",
   "execution_count": null,
   "metadata": {
    "_cell_guid": "0c3c38d5-e821-454f-9d7b-c7d80958bc3e",
    "_uuid": "86d71e729cbdc53a7dc31d25072baee7c316eabb",
    "id": "DRm9e9fmiJPP",
    "outputId": "e2f812cf-ff5b-416f-8aa6-ba33f0a70dfb"
   },
   "outputs": [],
   "source": [
    "# prepare data frame\n",
    "df = timesData.iloc[:100,:]\n",
    "\n",
    "# import graph objects as \"go\"\n",
    "import plotly.graph_objs as go\n",
    "\n",
    "# Creating trace1\n",
    "trace1 = go.Scatter(\n",
    "                    x = df['world_rank'],\n",
    "                    y = df['citations'],\n",
    "                    name = 'citations',\n",
    "                    mode= 'lines',\n",
    "                    marker = dict(color = 'rgba(16, 112, 2, 0.8)'),\n",
    "                    text = df['university_name'])\n",
    "\n",
    "# Creating trace2\n",
    "trace2 = go.Scatter(\n",
    "                    x = df['world_rank'],\n",
    "                    y = df['teaching'],\n",
    "                    name = 'teaching',\n",
    "                    mode= 'lines+markers',\n",
    "                    marker = dict(color = 'rgba(80, 26, 80, 0.8)'),\n",
    "                    text = df['university_name'])\n",
    "\n",
    "data = [trace1, trace2]\n",
    "\n",
    "layout = dict(title = 'Citation and Teaching vs World Rank of Top 100 Universities',\n",
    "             xaxis= dict(title= 'World Rank',ticklen= 5)\n",
    "           )\n",
    "\n",
    "fig = go.Figure(data = data, layout=layout)\n",
    "\n",
    "iplot(fig)"
   ]
  },
  {
   "cell_type": "markdown",
   "metadata": {
    "_cell_guid": "21cc3c44-74bd-4fd8-949a-98fca46c7477",
    "_uuid": "f5cb166fcca19b58da80e215a8755be48ecb05b0",
    "id": "JFCKUutCiJPU"
   },
   "source": [
    "<a id=\"3\"></a> <br>\n",
    "# Scatter\n",
    "Ejemplo de dispersión/scatter: Citaciones frente al ranking mundial de las 100 mejores universidades con los años 2014, 2015 y 2016\n",
    "* Import graph_objs as *go*\n",
    "* Creating traces\n",
    "    * x = x axis\n",
    "    * y = y axis\n",
    "    * mode = type of plot like marker, line or line + markers\n",
    "    * name = name of the plots\n",
    "    * marker = marker is used with dictionary. \n",
    "        * color = color of lines. It takes RGB (red, green, blue) and opacity (alpha)\n",
    "    * text = The hover text (hover is curser)\n",
    "* data = is a list that we add traces into it\n",
    "* layout = it is dictionary.\n",
    "    * title = title of layout\n",
    "    * x axis = it is dictionary\n",
    "        * title = label of x axis\n",
    "        * ticklen = length of x axis ticks\n",
    "        * zeroline = showing zero line or not\n",
    "    * y axis = it is dictionary and same with x axis\n",
    "* fig = it includes data and layout\n",
    "* iplot() = plots the figure(fig) that is created by data and layout"
   ]
  },
  {
   "cell_type": "code",
   "execution_count": null,
   "metadata": {
    "_cell_guid": "e3fab334-cd3f-4d32-9e57-85e8df7f5b00",
    "_uuid": "9b9fc2bfade60bf5e7bab921a8bacd854f603813",
    "id": "wtxO44FQiJPV",
    "outputId": "0070211c-48aa-41a1-f199-a39d9c518c52"
   },
   "outputs": [],
   "source": [
    "# prepare data frames\n",
    "df2014 = timesData[timesData.year == 2014].iloc[:100,:]\n",
    "df2015 = timesData[timesData.year == 2015].iloc[:100,:]\n",
    "df2016 = timesData[timesData.year == 2016].iloc[:100,:]\n",
    "df2016['world_rank'] = df2016['world_rank'].str.replace('=','')\n",
    "\n",
    "df2014['world_rank'] = df2014['world_rank'].astype(int)\n",
    "df2015['world_rank'] = df2015['world_rank'].astype(int)\n",
    "df2016['world_rank'] = df2016['world_rank'].astype(int)\n",
    "\n",
    "\n",
    "# import graph objects as \"go\"\n",
    "import plotly.graph_objs as go\n",
    "\n",
    "# creating trace1\n",
    "trace1 =go.Scatter(\n",
    "                    x = df2014.world_rank,\n",
    "                    y = df2014.citations,\n",
    "                    mode = \"markers\",\n",
    "                    name = \"2014\",\n",
    "                    marker = dict(color = 'rgba(255, 128, 255, 0.8)'),\n",
    "                    text= df2014.university_name)\n",
    "# creating trace2\n",
    "trace2 =go.Scatter(\n",
    "                    x = df2015.world_rank,\n",
    "                    y = df2015.citations,\n",
    "                    mode = \"markers\",\n",
    "                    name = \"2015\",\n",
    "                    marker = dict(color = 'rgba(255, 128, 2, 0.8)'),\n",
    "                    text= df2015.university_name)\n",
    "# creating trace3\n",
    "trace3 =go.Scatter(\n",
    "                    x = df2016.world_rank,\n",
    "                    y = df2016.citations,\n",
    "                    mode = \"markers\",\n",
    "                    name = \"2016\",\n",
    "                    marker = dict(color = 'rgba(0, 255, 200, 0.8)'),\n",
    "                    text= df2016.university_name)\n",
    "\n",
    "data = [trace1, trace2, trace3]\n",
    "\n",
    "layout = dict(title = 'Citation vs world rank of top 100 universities with 2014, 2015 and 2016 years',\n",
    "              xaxis= dict(title= 'World Rank',ticklen= 5,zeroline= False),\n",
    "              yaxis= dict(title= 'Citation',ticklen= 5,zeroline= False)\n",
    "             )\n",
    "\n",
    "fig = dict(data = data, layout = layout)\n",
    "# fig = go.Figure(data = data, layout=layout)\n",
    "\n",
    "iplot(fig)"
   ]
  },
  {
   "cell_type": "markdown",
   "metadata": {
    "_cell_guid": "8a4f89d0-3a72-479e-bb34-a75b0d043273",
    "_uuid": "1e34c2982b7b3c20f8510bb74ef83b8e54e24696",
    "id": "UNJb-vFPiJPX"
   },
   "source": [
    "<a id=\"4\"></a> <br>\n",
    "# Gráficos de barras\n",
    "Primer ejemplo de gráfico de barras: citas y enseñanza de las 3 mejores universidades en 2014 (estilo1)\n",
    "* Import graph_objs as *go*\n",
    "* Creating traces\n",
    "    * x = x axis\n",
    "    * y = y axis\n",
    "    * mode = type of plot like marker, line or line + markers\n",
    "    * name = name of the plots\n",
    "    * marker = marker is used with dictionary. \n",
    "        * color = color of lines. It takes RGB (red, green, blue) and opacity (alpha)\n",
    "        * line = It is dictionary. line between bars\n",
    "            * color = line color around bars\n",
    "    * text = The hover text (hover is curser)\n",
    "* data = is a list that we add traces into it\n",
    "* layout = it is dictionary.\n",
    "    * barmode = bar mode of bars like grouped\n",
    "* fig = it includes data and layout\n",
    "* iplot() = plots the figure(fig) that is created by data and layout"
   ]
  },
  {
   "cell_type": "code",
   "execution_count": null,
   "metadata": {
    "collapsed": true,
    "jupyter": {
     "outputs_hidden": true
    },
    "tags": []
   },
   "outputs": [],
   "source": [
    "?go.Bar"
   ]
  },
  {
   "cell_type": "code",
   "execution_count": null,
   "metadata": {
    "_cell_guid": "f1023615-979a-41e1-87d3-111b243d4008",
    "_uuid": "7cab7ea3a8ec399efd6cd09148b79ae1d6c5b472",
    "id": "WoWTKfYbiJPa",
    "outputId": "9ba758c0-6783-4b4d-8a48-4fa521b0c917"
   },
   "outputs": [],
   "source": [
    "# prepare data frames\n",
    "df2014 = timesData[timesData.year == 2014].iloc[:3,:]\n",
    "# import graph objects as \"go\"\n",
    "import plotly.graph_objs as go\n",
    "\n",
    "# create trace1 \n",
    "trace1 = go.Bar(x = df2014['university_name'],\n",
    "               y = df2014['citations'],\n",
    "               name = 'citations',\n",
    "               marker = dict(color = 'rgba(255, 174, 255, 0.5)',\n",
    "                            line = dict(color='rgb(0,0,0)', width = 1.5)),\n",
    "               text = df2014['country'])\n",
    "\n",
    "trace2 = go.Bar(x = df2014['university_name'],\n",
    "               y = df2014['teaching'],\n",
    "               name = 'teaching',\n",
    "               marker = dict(color = 'rgba(255, 255, 128, 0.5)',\n",
    "                            line = dict(color='rgb(0,0,0)', width = 1.5)),\n",
    "               text = df2014['country'])\n",
    "\n",
    "\n",
    "\n",
    "data = [trace1, trace2]\n",
    "\n",
    "layout = go.Layout(barmode = \"group\")\n",
    "\n",
    "fig = go.Figure(data = data, layout = layout)\n",
    "\n",
    "iplot(fig)"
   ]
  },
  {
   "cell_type": "markdown",
   "metadata": {
    "_cell_guid": "cdc609d8-b16a-46cd-a07c-2ee3709109c6",
    "_uuid": "de3cf7293f5de54703b46faa9446aa42863de14b",
    "id": "3QyEYQuaiJPd"
   },
   "source": [
    "\n",
    "Segundo ejemplo de gráfico de barras: citas y docencia de las 3 mejores universidades en 2014 (estilo2)\n",
    "En realidad, si se cambia sólo el barmode de *group* a *relative* en el ejemplo anterior, se consigue lo que hemos hecho aquí. Sin embargo, para la ver diferentes maneras usamos diferentes sintaxis. \n",
    "* Import graph_objs as *go*\n",
    "* Creating traces\n",
    "    * x = x axis\n",
    "    * y = y axis\n",
    "    * name = name of the plots\n",
    "    * type = type of plot like bar plot\n",
    "* data = is a list that we add traces into it\n",
    "* layout = it is dictionary.\n",
    "    * xaxis = label of x axis\n",
    "    * barmode = bar mode of bars like grouped( previous example) or relative\n",
    "    * title = title of layout\n",
    "* fig = it includes data and layout\n",
    "* iplot() = plots the figure(fig) that is created by data and layout"
   ]
  },
  {
   "cell_type": "code",
   "execution_count": null,
   "metadata": {
    "_cell_guid": "8d27bdc1-3d0a-4ba2-8fe0-a7d906eb8f46",
    "_uuid": "77484a445dbeffc57e4e2b47b560e737ae030afc",
    "id": "kQYDZz07iJPd",
    "outputId": "f7d4d4be-a404-47f1-e208-fbd522858b6e"
   },
   "outputs": [],
   "source": [
    "# prepare data frames\n",
    "df2014 = timesData[timesData.year == 2014].iloc[:3,:]\n",
    "# import graph objects as \"go\"\n",
    "import plotly.graph_objs as go\n",
    "\n",
    "x = df2014.university_name\n",
    "\n",
    "trace1 = {\n",
    "    'x': x,\n",
    "    'y': df2014['citations'],\n",
    "    'name': 'citation',\n",
    "    'type': 'bar'\n",
    "}\n",
    "\n",
    "trace2 = {\n",
    "    'x': x,\n",
    "    'y': df2014['teaching'],\n",
    "    'name': 'teaching',\n",
    "    'type': 'bar'\n",
    "}\n",
    "\n",
    "data = [trace1, trace2]\n",
    "\n",
    "layout = {\n",
    "    'xaxis': {'title': 'Top 3 unis'},\n",
    "    'barmode': 'group',\n",
    "    'title': 'Citations and teaching top 3 unis'\n",
    "}\n",
    "\n",
    "fig = go.Figure(data = data, layout = layout)\n",
    "iplot(fig)"
   ]
  },
  {
   "cell_type": "markdown",
   "metadata": {
    "_cell_guid": "2a37e2f1-1944-4925-9d63-54b07c5f437e",
    "_uuid": "6fbae9f3e6895c5e81511909c9691010bdab19b6",
    "id": "NUVRVzDJiJPj"
   },
   "source": [
    "<a id=\"5\"></a> <br>\n",
    "# Gráficos de tarta\n",
    "Ejemplo de gráficos de tarta: Valoración de los estudiantes de las 7 mejores universidades en 2016\n",
    "* fig: create figures\n",
    "    * data: plot type\n",
    "        * values: values of plot\n",
    "        * labels: labels of plot\n",
    "        * name: name of plots\n",
    "        * hoverinfo: information in hover\n",
    "        * hole: hole width\n",
    "        * type: plot type like pie\n",
    "    * layout: layout of plot\n",
    "        * title: title of layout\n",
    "        * annotations: font, showarrow, text, x, y"
   ]
  },
  {
   "cell_type": "code",
   "execution_count": null,
   "metadata": {},
   "outputs": [],
   "source": [
    "?go.Pie"
   ]
  },
  {
   "cell_type": "code",
   "execution_count": null,
   "metadata": {
    "_cell_guid": "3f812ce0-af65-4a58-ac6d-8d9eb8ebd172",
    "_uuid": "9be9ad69552149480ed9835b7206325f7b59053f",
    "id": "r0KaOMfwiJPj",
    "outputId": "8f02a23c-e6a5-4b30-a33c-5b4cc1f4704a"
   },
   "outputs": [],
   "source": [
    "# data preparation\n",
    "df2016 = timesData[timesData.year == 2016].iloc[:7,:]\n",
    "pie1 = df2016.num_students\n",
    "pie1_list = [int(each.replace(',', '')) for each in df2016.num_students]  # str(2,4) => str(2.4) = > float(2.4) = 2.4\n",
    "labels = df2016.university_name\n",
    "\n",
    "# figure\n",
    "fig = {\n",
    "  \"data\": [\n",
    "    {\n",
    "      \"values\": pie1_list,\n",
    "      \"labels\": labels,\n",
    "      \"domain\": {\"x\": [0, .5]},\n",
    "      \"name\": \"Number Of Students Rates\",\n",
    "      \"hoverinfo\":\"label+percent+name\",\n",
    "      \"hole\": 0.3,\n",
    "      \"type\": \"pie\"\n",
    "    },],\n",
    "  \"layout\": {\n",
    "        \"title\":\"Universities Number of Students rates\",\n",
    "        \"annotations\": [\n",
    "            { \"font\": { \"size\": 20},\n",
    "              \"showarrow\": False,\n",
    "              \"text\": \"Number of Students\",\n",
    "                \"x\": 0.13,\n",
    "                \"y\": 1.1\n",
    "            },\n",
    "        ]\n",
    "    }\n",
    "}\n",
    "iplot(fig)"
   ]
  },
  {
   "cell_type": "markdown",
   "metadata": {
    "_cell_guid": "ec5e2576-e436-4b6f-afe3-9e2fe4bc8d2d",
    "_uuid": "6f15e9b30edd7abd39e08a50f12bd1f68cefaf0e",
    "id": "VTEwWQcyiJPl"
   },
   "source": [
    "<a id=\"6\"></a> <br>\n",
    "# Gráficos de burbujas\n",
    "Ejemplo de gráficos de burbujas: Ranking mundial de universidades (20 primeras) vs puntuación de enseñanza con número de estudiantes(tamaño) y puntuación internacional (color) en 2016\n",
    "* x = x axis\n",
    "* y = y axis\n",
    "* mode = markers(scatter)\n",
    "*  marker = marker properties\n",
    "    * color = third dimension of plot. Internaltional score\n",
    "    * size = fourth dimension of plot. Number of students\n",
    "* text: university names"
   ]
  },
  {
   "cell_type": "code",
   "execution_count": null,
   "metadata": {
    "_uuid": "be139b414dad8c46b384c792f627dd08bb59f16a",
    "id": "MB53jeCviJPm",
    "outputId": "6a9c816a-23ab-4ecb-a5ed-b7ad19f0678e"
   },
   "outputs": [],
   "source": [
    "df2016.info()"
   ]
  },
  {
   "cell_type": "code",
   "execution_count": null,
   "metadata": {},
   "outputs": [],
   "source": [
    "num_students_size  = [int(each.replace(',', ''))/1000 for each in df2016.num_students]\n",
    "# num_students_size"
   ]
  },
  {
   "cell_type": "code",
   "execution_count": null,
   "metadata": {
    "_cell_guid": "33562c2d-7b94-40a4-be88-939005732c06",
    "_uuid": "99e4712d554eff3eaf166d3afe60f4979f5a5598",
    "id": "sRF4X5H1iJPo",
    "outputId": "b6857dee-6a46-41b6-8d54-6e47a10d7782"
   },
   "outputs": [],
   "source": [
    "# data preparation\n",
    "df2016 = timesData[timesData.year == 2016].iloc[:20,:]\n",
    "num_students_size  = [int(each.replace(',', ''))/1000 for each in df2016.num_students]\n",
    "international_color = [float(each) for each in df2016.international]\n",
    "\n",
    "data = [\n",
    "    {\n",
    "        'y': df2016['teaching'],\n",
    "        'x': df2016['world_rank'],\n",
    "        'mode': 'markers',\n",
    "        'marker': {\n",
    "            'color': international_color,\n",
    "            'size': num_students_size,\n",
    "            'showscale': True\n",
    "        },\n",
    "        'text': df2016['university_name']\n",
    "    }\n",
    "]\n",
    "\n",
    "iplot(data)"
   ]
  },
  {
   "cell_type": "markdown",
   "metadata": {
    "_cell_guid": "d3b9f6e3-9314-4279-a8dd-a3b0f9c64af0",
    "_uuid": "76a2d45c64d396bb39d589e6476bdb3da44e87c7",
    "id": "mIwLaX9MiJPq"
   },
   "source": [
    "<a id=\"7\"></a> <br>\n",
    "# Histograma\n",
    "Veamos el histograma de la relación alumnos-personal en los años 2011 y 2012. \n",
    "* trace1 = first histogram\n",
    "    * x = x axis\n",
    "    * y = y axis\n",
    "    * opacity = opacity of histogram\n",
    "    * name = name of legend\n",
    "    * marker = color of histogram\n",
    "* trace2 = second histogram\n",
    "* layout = layout \n",
    "    * barmode = mode of histogram like overlay. Also you can change it with *stack*"
   ]
  },
  {
   "cell_type": "code",
   "execution_count": null,
   "metadata": {
    "_cell_guid": "52e70f08-317b-454b-9d8b-ac4fc051f4a6",
    "_uuid": "1902b1610c11976c476ed9f83febb5201551ab0b",
    "id": "XVG5F3n6iJPr",
    "outputId": "c5941058-03ca-4721-fc14-a5da8c6d1d74",
    "tags": []
   },
   "outputs": [],
   "source": [
    "# prepare data\n",
    "x2011 = timesData.student_staff_ratio[timesData.year == 2011]\n",
    "x2012 = timesData.student_staff_ratio[timesData.year == 2012]\n",
    "x2013 = timesData.student_staff_ratio[timesData.year == 2013]\n",
    "\n",
    "trace1 = go.Histogram(x = x2011,\n",
    "                     opacity = 0.9,\n",
    "                     name = '2011',\n",
    "                     marker = dict(color = 'rgba(171,50,96,0.6)'))\n",
    "\n",
    "trace2 = go.Histogram(x = x2012,\n",
    "                     opacity = 0.9,\n",
    "                     name = '2012',\n",
    "                     marker = dict(color = 'rgba(12,50,196,0.6)'))\n",
    "\n",
    "trace3 = go.Histogram(x = x2013,\n",
    "                     opacity = 0.9,\n",
    "                     name = '2013',\n",
    "                     marker = dict(color = 'rgba(80,90,196,0.6)'))\n",
    "\n",
    "data = [trace1, trace2, trace3]\n",
    "layout = go.Layout(barmode='overlay',\n",
    "                   title=' students-staff ratio in 2011 and 2012',\n",
    "                   xaxis=dict(title='students-staff ratio'),\n",
    "                   yaxis=dict( title='Count'),\n",
    ")\n",
    "fig = go.Figure(data=data, layout=layout)\n",
    "iplot(fig)"
   ]
  },
  {
   "cell_type": "markdown",
   "metadata": {
    "_cell_guid": "c72c2772-d83f-442e-98d8-3db381023fb6",
    "_uuid": "4d36543dc3d5a223d59a0f03ff0a50f9c968d39f",
    "id": "vbxv2lDViJPt"
   },
   "source": [
    "<a id=\"8\"></a> <br>\n",
    "# Nube de palabras\n",
    "No es un pyplot pero aprenderlo es bueno para ciertos tipos de representaciones. Veamos qué país se menciona más en 2011.\n",
    "* WordCloud = biblioteca de nube de palabras que hemos importado al principio del notebook\n",
    "    * background_color = color of back ground\n",
    "    * generate = generates the country name list(x2011) a word cloud"
   ]
  },
  {
   "cell_type": "code",
   "execution_count": null,
   "metadata": {
    "_cell_guid": "4e70ec20-5ec1-4afa-bf70-10f540604004",
    "_uuid": "9bbbd490844157ebd50ab0115437164c2b4e97d5",
    "id": "mKc8vXLkiJPu",
    "outputId": "12fb4d6e-7536-4d12-b46b-5292a911b5df"
   },
   "outputs": [],
   "source": [
    "# data prepararion\n",
    "x2011 = timesData.country[timesData.year == 2011]\n",
    "plt.subplots(figsize=(8,8))\n",
    "wordcloud = WordCloud(\n",
    "                          background_color='white',\n",
    "                          width=512,\n",
    "                          height=384\n",
    "                         ).generate(\" \".join(x2011))\n",
    "plt.imshow(wordcloud)\n",
    "plt.axis('off')\n",
    "plt.savefig('graph.png')\n",
    "\n",
    "plt.show()"
   ]
  },
  {
   "cell_type": "markdown",
   "metadata": {
    "_cell_guid": "cfb4e7a4-1d6c-4002-b752-968df09a75d3",
    "_uuid": "cb6702d0af6c4619431e1dd6fe3ef1335846cd9b",
    "id": "QD9k-dkuiJPw"
   },
   "source": [
    "<a id=\"9\"></a> <br>\n",
    "# Box Plots\n",
    "* Diagramas de caja\n",
    "    * Mediana (percentil 50) = valor medio del conjunto de datos. Ordena y toma los datos del medio. También se denomina percentil 50, es decir, el 50% de los datos son inferiores a la mediana (cuartil 50) (cuartil)\n",
    "        * percentil 25 = cuartil 1 (Q1) que es el cuartil inferior\n",
    "        * percentil 75 = cuartil 3 (Q3) que es el cuartil superior\n",
    "        * altura de la caja/fence = IQR = rango intercuartilico\n",
    "        * Whiskers= 1,5 * IQR del Q1 y Q3\n",
    "        * Outliers = estar a más de 1,5*IQR de la mediana comúnmente.\n",
    "        \n",
    "    * trace = box\n",
    "        * y = data we want to visualize with box plot \n",
    "        * marker = color"
   ]
  },
  {
   "cell_type": "code",
   "execution_count": null,
   "metadata": {},
   "outputs": [],
   "source": [
    "# data preparation\n",
    "x2015 = timesData[timesData.year == 2015]\n",
    "x2015['total_score'].unique()"
   ]
  },
  {
   "cell_type": "code",
   "execution_count": null,
   "metadata": {},
   "outputs": [],
   "source": [
    "x2015['total_score'] = x2015['total_score'].str.replace('-','0')\n",
    "x2015['total_score'] = x2015['total_score'].astype(float)\n",
    "x2015.dtypes"
   ]
  },
  {
   "cell_type": "code",
   "execution_count": null,
   "metadata": {
    "_cell_guid": "ba8115b7-c2a1-419d-85fe-d289a9dcd7c2",
    "_uuid": "85e765f1aec5ced7e71742ae62d6453d04cfe8a5",
    "id": "c7ow4NXDiJPx",
    "outputId": "db668cbd-4adf-4623-eeba-11833baaab51"
   },
   "outputs": [],
   "source": [
    "trace0 = go.Box(y = x2015['total_score'],\n",
    "                name = 'Total score in 2015')\n",
    "\n",
    "trace1 = go.Box(y = x2015['research'],\n",
    "                name = 'Total research in 2015')\n",
    "\n",
    "\n",
    "data = [trace0, trace1]\n",
    "iplot(data)"
   ]
  },
  {
   "cell_type": "markdown",
   "metadata": {
    "_cell_guid": "cf366f8d-320d-487d-944e-e072a0f38371",
    "_uuid": "aa8d1282329290d96c0ced756da51bf652dec96e",
    "id": "I2H3aljmiJPz"
   },
   "source": [
    "<a id=\"10\"></a> <br>\n",
    "# Matriz de Gráficas Scatter\n",
    "Scatter Matrix = nos ayuda a ver la covarianza y la relación entre más de 2 características\n",
    "* import figure factory as ff\n",
    "* create_scatterplotmatrix = creates scatter plot\n",
    "    * data2015 = datos preparados. Incluye las puntuaciones de investigación, internacional y total con índice de 1 a 401\n",
    "    * colormap = color map of scatter plot\n",
    "    * colormap_type = color type of scatter plot\n",
    "    * height and weight"
   ]
  },
  {
   "cell_type": "code",
   "execution_count": null,
   "metadata": {},
   "outputs": [],
   "source": [
    "# data2015['international'] = data2015['international'].str.replace('-','0')\n",
    "# data2015['total_score'] = data2015['total_score'].str.replace('-','0')\n",
    "# data2015['international'] = data2015['international'].astype(float)\n",
    "# data2015['total_score'] = data2015['total_score'].astype(float)\n",
    "# data2015.dtypes"
   ]
  },
  {
   "cell_type": "code",
   "execution_count": null,
   "metadata": {},
   "outputs": [],
   "source": [
    "# prepare data\n",
    "dataframe = timesData[timesData.year == 2015]\n",
    "data2015 = dataframe.loc[:,[\"research\",\"international\", \"total_score\"]]\n",
    "data2015[\"new_world_rank\"] = np.arange(1,len(data2015)+1)\n",
    "\n",
    "data2015['international'] = data2015['international'].str.replace('-','0')\n",
    "data2015['total_score'] = data2015['total_score'].str.replace('-','0')\n",
    "data2015['international'] = data2015['international'].astype(float)\n",
    "data2015['total_score'] = data2015['total_score'].astype(float)"
   ]
  },
  {
   "cell_type": "code",
   "execution_count": null,
   "metadata": {},
   "outputs": [],
   "source": [
    "data2015"
   ]
  },
  {
   "cell_type": "code",
   "execution_count": null,
   "metadata": {
    "_cell_guid": "a1c749c1-a170-4b11-a62a-a5e48a22c0c0",
    "_uuid": "a97b9548892baf3454020d4f9204e38b1267ce85",
    "id": "S44dE-C-iJPz",
    "outputId": "0bd62461-bf25-4194-d776-4248ac59ef36"
   },
   "outputs": [],
   "source": [
    "# import figure factory\n",
    "import plotly.figure_factory as ff\n",
    "\n",
    "\n",
    "# scatter matrix\n",
    "fig = ff.create_scatterplotmatrix(data2015,\n",
    "                                 diag = 'box',\n",
    "                                 index ='new_world_rank',\n",
    "                                 colormap = 'Portland',\n",
    "                                 height = 700,\n",
    "                                 width = 700)\n",
    "\n",
    "iplot(fig)"
   ]
  },
  {
   "cell_type": "markdown",
   "metadata": {
    "_uuid": "79e731b572f1f15b66b234640bdc2a975eb4b955",
    "id": "kYKeV__OiJP2"
   },
   "source": [
    "<a id=\"11\"></a> <br>\n",
    "# Inset Plots\n",
    "<font color='red'>\n",
    "Inset Matrix = 2 gráficos en un mismo cuadro\n",
    "<font color='black'>"
   ]
  },
  {
   "cell_type": "code",
   "execution_count": null,
   "metadata": {
    "_uuid": "5a7d6aa48dc7ec1301b95d602c22b0eda11405f4",
    "id": "0u7eWliniJP2",
    "outputId": "bcf8dd65-92ad-4e7e-8a78-dd0d2fdfcbed"
   },
   "outputs": [],
   "source": [
    "# first line plot\n",
    "trace1 = go.Scatter(\n",
    "    x=dataframe.world_rank,\n",
    "    y=dataframe.teaching,\n",
    "    name = \"teaching\",\n",
    "    marker = dict(color = 'rgba(16, 112, 2, 0.8)'),\n",
    ")\n",
    "\n",
    "# second line plot\n",
    "trace2 = go.Scatter(\n",
    "    x=dataframe.world_rank,\n",
    "    y=dataframe.income,\n",
    "    xaxis='x2',\n",
    "    yaxis='y2',\n",
    "    name = \"income\",\n",
    "    marker = dict(color = 'rgba(160, 112, 20, 0.8)'),\n",
    ")\n",
    "data = [trace1, trace2]\n",
    "\n",
    "layout = go.Layout(\n",
    "    xaxis2=dict(\n",
    "        domain=[0.6, 0.95],\n",
    "        anchor='y2',        \n",
    "    ),\n",
    "    yaxis2=dict(\n",
    "        domain=[0.6, 0.95],\n",
    "        anchor='x2',\n",
    "    ),\n",
    "    title = 'Income and Teaching vs World Rank of Universities'\n",
    "\n",
    ")\n",
    "\n",
    "fig = go.Figure(data=data, layout=layout)\n",
    "iplot(fig)\n"
   ]
  },
  {
   "cell_type": "markdown",
   "metadata": {
    "_uuid": "9e605fb5cf38d1e70d1565d2d1abbea5605c7182",
    "id": "xEj26yDqiJP4"
   },
   "source": [
    "<a id=\"12\"></a> <br>\n",
    "# 3D Scatter Plot with Colorscaling\n",
    "3D Scatter: A veces las 2D no son suficientes para entender los datos. Por lo tanto, añadir una dimensión más aumenta la inteligibilidad de los datos. Incluso podemos añadir color, que es en realidad la cuarta dimensión.\n",
    "* go.Scatter3d: create 3d scatter plot\n",
    "* x,y,z: axis of plots\n",
    "* mode: market that is scatter\n",
    "* size: marker size\n",
    "* color: axis of colorscale\n",
    "* colorscale:  actually it is 4th dimension"
   ]
  },
  {
   "cell_type": "code",
   "execution_count": null,
   "metadata": {
    "_uuid": "92621456f5385967d7d8d2d54fd4bd7345d0dd3c",
    "id": "LGPYHRfriJP4",
    "outputId": "3f8e3e72-2f0e-44b9-e51b-bc996f440704"
   },
   "outputs": [],
   "source": [
    "# create trace 1 that is 3d scatter\n",
    "trace1 = go.Scatter3d(x = dataframe['world_rank'],\n",
    "                     y = dataframe['research'],\n",
    "                     z = dataframe['citations'],\n",
    "                     mode = 'markers',\n",
    "                     marker = dict(size = 5, color = 'rgb(255,0,0)'))\n",
    "\n",
    "data = [trace1]\n",
    "layout = go.Layout()\n",
    "\n",
    "fig = go.Figure(data=data, layout=layout)\n",
    "iplot(fig)"
   ]
  },
  {
   "cell_type": "markdown",
   "metadata": {
    "_uuid": "75383d6fc4ae4b6214a69b1dd511181b79c94faa",
    "id": "UjOQLBJFiJP7"
   },
   "source": [
    "<a id=\"13\"></a> <br>\n",
    "# Subplots Múltiples\n",
    "<font color='red'>\n",
    "Multiple Subplots: Al comparar más de una característica, pueden ser útiles las subplots múltiples.\n",
    "<font color='black'>\n",
    "\n"
   ]
  },
  {
   "cell_type": "code",
   "execution_count": null,
   "metadata": {
    "_uuid": "b84f7f859e87b94762938f5b542598f80bf67fd8",
    "id": "iS3ACgfEiJP7",
    "outputId": "322ccb6c-3b3d-464f-c24f-56bd01df2289"
   },
   "outputs": [],
   "source": [
    "trace1 = go.Scatter(\n",
    "    x=dataframe.world_rank,\n",
    "    y=dataframe.research,\n",
    "    xaxis='x1',\n",
    "    yaxis='y1',\n",
    "    name = \"research\"\n",
    ")\n",
    "trace2 = go.Scatter(\n",
    "    x=dataframe.world_rank,\n",
    "    y=dataframe.citations,\n",
    "    xaxis='x2',\n",
    "    yaxis='y2',\n",
    "    name = \"citations\"\n",
    ")\n",
    "trace3 = go.Scatter(\n",
    "    x=dataframe.world_rank,\n",
    "    y=dataframe.income,\n",
    "    xaxis='x3',\n",
    "    yaxis='y3',\n",
    "    name = \"income\"\n",
    ")\n",
    "trace4 = go.Scatter(\n",
    "    x=dataframe.world_rank,\n",
    "    y=dataframe.total_score,\n",
    "    xaxis='x4',\n",
    "    yaxis='y4',\n",
    "    name = \"total_score\"\n",
    ")\n",
    "data = [trace1, trace2, trace3, trace4]\n",
    "\n",
    "layout = go.Layout(\n",
    "    xaxis=dict(\n",
    "        domain=[0, 0.45],\n",
    "        anchor='y1'\n",
    "    ),\n",
    "    yaxis=dict(\n",
    "        domain=[0, 0.45],\n",
    "        anchor='x1'\n",
    "    ),\n",
    "    xaxis2=dict(\n",
    "        domain=[0.55, 1],\n",
    "        anchor='y2'\n",
    "    ),\n",
    "    xaxis3=dict(\n",
    "        domain=[0, 0.45],\n",
    "        anchor='y3'\n",
    "    ),\n",
    "    xaxis4=dict(\n",
    "        domain=[0.55, 1],\n",
    "        anchor='y4'\n",
    "    ),\n",
    "    yaxis2=dict(\n",
    "        domain=[0, 0.45],\n",
    "        anchor='x2'\n",
    "    ),\n",
    "    yaxis3=dict(\n",
    "        domain=[0.55, 1],\n",
    "        anchor='x3'\n",
    "    ),\n",
    "    yaxis4=dict(\n",
    "        domain=[0.55, 1],\n",
    "        anchor='x4'\n",
    "    ),\n",
    "    title = 'Research, citation, income and total score VS World Rank of Universities'\n",
    ")\n",
    "fig = go.Figure(data=data, layout=layout)\n",
    "iplot(fig)"
   ]
  },
  {
   "cell_type": "markdown",
   "metadata": {},
   "source": [
    "# Exportación a HTML\n",
    "Las figuras de Plotly son interactivas cuando se visualizan en un navegador web: podemos pasar por encima de los puntos de datos, desplazar y ampliar los ejes, y mostrar y ocultar las capas haciendo clic o doble clic en la leyenda. Puede exportar las figuras a formatos de archivo de imagen estáticos como PNG, JEPG, SVG o PDF o podemos exportarlas a archivos HTML que pueden abrirse en un navegador.\n"
   ]
  },
  {
   "cell_type": "code",
   "execution_count": null,
   "metadata": {},
   "outputs": [],
   "source": [
    "# Vamos a guardar la última visualización en este formato\n",
    "fig.write_html(\"4 charts in one.html\")"
   ]
  },
  {
   "cell_type": "code",
   "execution_count": null,
   "metadata": {},
   "outputs": [],
   "source": [
    "df"
   ]
  },
  {
   "cell_type": "code",
   "execution_count": null,
   "metadata": {},
   "outputs": [],
   "source": [
    "import plotly.express as px\n",
    "df = px.data.gapminder().query(\"year==2007\")\n",
    "fig = px.scatter_geo(df, locations=\"iso_alpha\", color=\"continent\",\n",
    "                     hover_name=\"country\", size=\"pop\",\n",
    "                     projection=\"natural earth\")\n",
    "fig.show()"
   ]
  }
 ],
 "metadata": {
  "colab": {
   "name": "plotly-tutorial-for-beginners.ipynb",
   "provenance": []
  },
  "kernelspec": {
   "display_name": "Python 3.7.9 64-bit",
   "language": "python",
   "name": "python3"
  },
  "language_info": {
   "codemirror_mode": {
    "name": "ipython",
    "version": 3
   },
   "file_extension": ".py",
   "mimetype": "text/x-python",
   "name": "python",
   "nbconvert_exporter": "python",
   "pygments_lexer": "ipython3",
   "version": "3.7.9"
  },
  "vscode": {
   "interpreter": {
    "hash": "ec2a379ed5c25334a484232182c9d38ef8bd9861e2542d0c517568c4f99a9a7c"
   }
  }
 },
 "nbformat": 4,
 "nbformat_minor": 4
}
