{
 "cells": [
  {
   "cell_type": "markdown",
   "metadata": {
    "colab_type": "text",
    "id": "zWl5iuMThonQ"
   },
   "source": [
    "# Bajando datos de diferentes fuentes. Ejemplos"
   ]
  },
  {
   "cell_type": "markdown",
   "metadata": {
    "colab_type": "text",
    "id": "G8fjA0nyhonR"
   },
   "source": [
    "## Bajar datos de Bicimad"
   ]
  },
  {
   "cell_type": "code",
   "execution_count": null,
   "metadata": {},
   "outputs": [],
   "source": []
  },
  {
   "cell_type": "code",
   "execution_count": 1,
   "metadata": {
    "colab": {},
    "colab_type": "code",
    "id": "4xGwVDZxhonR"
   },
   "outputs": [
    {
     "name": "stderr",
     "output_type": "stream",
     "text": [
      "/usr/lib/python3/dist-packages/requests/__init__.py:89: RequestsDependencyWarning: urllib3 (1.26.13) or chardet (3.0.4) doesn't match a supported version!\n",
      "  warnings.warn(\"urllib3 ({}) or chardet ({}) doesn't match a supported \"\n"
     ]
    }
   ],
   "source": [
    "# Importamos librerias\n",
    "import requests\n",
    "import zipfile\n",
    "import pandas as pd"
   ]
  },
  {
   "cell_type": "code",
   "execution_count": 2,
   "metadata": {},
   "outputs": [],
   "source": [
    "url = \"https://pbs.twimg.com/profile_images/616689518968762368/rkhjKqNb.jpg\"\n",
    "image = requests.get(url)"
   ]
  },
  {
   "cell_type": "code",
   "execution_count": 5,
   "metadata": {},
   "outputs": [],
   "source": [
    "with open(\"mutenrroy.jpg\", 'wb') as f:\n",
    "    f.write(image.content)"
   ]
  },
  {
   "cell_type": "code",
   "execution_count": null,
   "metadata": {
    "tags": []
   },
   "outputs": [],
   "source": [
    "# https://opendata.emtmadrid.es/getattachment/037ee8a5-b824-43b1-ac7b-76225c783993/201810_Usage_Bicimad.aspx\n",
    "\n",
    "\n",
    "url = 'https://opendata.emtmadrid.es/getattachment/037ee8a5-b824-43b1-ac7b-76225c783993/201810_Usage_Bicimad.aspx'\n",
    "\n",
    "r = requests.get(url)"
   ]
  },
  {
   "cell_type": "code",
   "execution_count": null,
   "metadata": {},
   "outputs": [],
   "source": [
    "# Guardamos el zip\n",
    "filename = 'bicis.zip'\n",
    "with open(filename, 'wb') as f:\n",
    "   f.write(r.content)"
   ]
  },
  {
   "cell_type": "code",
   "execution_count": null,
   "metadata": {
    "colab": {},
    "colab_type": "code",
    "id": "uVRFbVZrhonV"
   },
   "outputs": [],
   "source": [
    "# Extraemos lo que hay dentro\n",
    "filename = 'bicis.zip'\n",
    "with zipfile.ZipFile(filename, 'r') as zip_ref:\n",
    "    zip_ref.extractall(\".\")"
   ]
  },
  {
   "cell_type": "code",
   "execution_count": null,
   "metadata": {
    "colab": {},
    "colab_type": "code",
    "id": "uNGffwephonX"
   },
   "outputs": [],
   "source": [
    "# Leemos los datos\n",
    "datos_bicis = pd.read_json('201810_Usage_Bicimad.json', lines=True, encoding='latin-1', nrows=10000)"
   ]
  },
  {
   "cell_type": "code",
   "execution_count": null,
   "metadata": {
    "colab": {
     "base_uri": "https://localhost:8080/",
     "height": 309
    },
    "colab_type": "code",
    "id": "CF9u6xluhonZ",
    "outputId": "2e4e08fe-735e-4d35-ced1-2c83fc2fc743"
   },
   "outputs": [],
   "source": [
    "# Vemos qué pinta tienen\n",
    "datos_bicis.head()"
   ]
  },
  {
   "cell_type": "code",
   "execution_count": null,
   "metadata": {},
   "outputs": [],
   "source": [
    "datos_bicis['track']"
   ]
  },
  {
   "cell_type": "markdown",
   "metadata": {},
   "source": [
    "# Acceso a archivos de la pagina de datos.gob.es\n",
    "Uno de los mayores catálogos de información pública descargable en España"
   ]
  },
  {
   "cell_type": "code",
   "execution_count": 6,
   "metadata": {
    "collapsed": true,
    "jupyter": {
     "outputs_hidden": true
    },
    "tags": []
   },
   "outputs": [
    {
     "data": {
      "text/html": [
       "<div>\n",
       "<style scoped>\n",
       "    .dataframe tbody tr th:only-of-type {\n",
       "        vertical-align: middle;\n",
       "    }\n",
       "\n",
       "    .dataframe tbody tr th {\n",
       "        vertical-align: top;\n",
       "    }\n",
       "\n",
       "    .dataframe thead th {\n",
       "        text-align: right;\n",
       "    }\n",
       "</style>\n",
       "<table border=\"1\" class=\"dataframe\">\n",
       "  <thead>\n",
       "    <tr style=\"text-align: right;\">\n",
       "      <th></th>\n",
       "      <th>Año</th>\n",
       "      <th>Consumo de agua (m3)</th>\n",
       "      <th>Aceites/grasas  (kg)</th>\n",
       "      <th>Pinturas (kg)</th>\n",
       "    </tr>\n",
       "  </thead>\n",
       "  <tbody>\n",
       "    <tr>\n",
       "      <th>0</th>\n",
       "      <td>2019</td>\n",
       "      <td>903240</td>\n",
       "      <td>540511</td>\n",
       "      <td>88537</td>\n",
       "    </tr>\n",
       "    <tr>\n",
       "      <th>1</th>\n",
       "      <td>2018</td>\n",
       "      <td>917605</td>\n",
       "      <td>446983</td>\n",
       "      <td>116778</td>\n",
       "    </tr>\n",
       "    <tr>\n",
       "      <th>2</th>\n",
       "      <td>2017</td>\n",
       "      <td>923881</td>\n",
       "      <td>452534</td>\n",
       "      <td>96362</td>\n",
       "    </tr>\n",
       "    <tr>\n",
       "      <th>3</th>\n",
       "      <td>2016</td>\n",
       "      <td>952455</td>\n",
       "      <td>302202</td>\n",
       "      <td>125304</td>\n",
       "    </tr>\n",
       "    <tr>\n",
       "      <th>4</th>\n",
       "      <td>2015</td>\n",
       "      <td>941651</td>\n",
       "      <td>315302</td>\n",
       "      <td>130003</td>\n",
       "    </tr>\n",
       "    <tr>\n",
       "      <th>5</th>\n",
       "      <td>2014</td>\n",
       "      <td>1023534</td>\n",
       "      <td>319674</td>\n",
       "      <td>125448</td>\n",
       "    </tr>\n",
       "    <tr>\n",
       "      <th>6</th>\n",
       "      <td>2013</td>\n",
       "      <td>905703</td>\n",
       "      <td>308904</td>\n",
       "      <td>96946</td>\n",
       "    </tr>\n",
       "  </tbody>\n",
       "</table>\n",
       "</div>"
      ],
      "text/plain": [
       "    Año  Consumo de agua (m3)  Aceites/grasas  (kg)  Pinturas (kg)\n",
       "0  2019                903240                540511          88537\n",
       "1  2018                917605                446983         116778\n",
       "2  2017                923881                452534          96362\n",
       "3  2016                952455                302202         125304\n",
       "4  2015                941651                315302         130003\n",
       "5  2014               1023534                319674         125448\n",
       "6  2013                905703                308904          96946"
      ]
     },
     "execution_count": 6,
     "metadata": {},
     "output_type": "execute_result"
    }
   ],
   "source": [
    "# https://datos.gob.es/es/catalogo/ea0003337-principales-indicadores-de-sostenibilidad1\n",
    "\n",
    "url = \"https://data.renfe.com/dataset/928d911e-00ca-437b-be3f-068fc1f97800/resource/63d285e8-9f52-410b-8412-8a8c26f5ddb3/download/consumo-de-agua-y-materiales.csv\"\n",
    "# url = \"https://estadisticas.mecd.gob.es/EducaJaxiPx/files/_px/es/csv_c/Universitaria/Financiacion_gasto/2018/ingresos/l0/Pres_Ingr_PrevDRN_CA.px\"\n",
    "datos = pd.read_csv(url, sep = ';')\n",
    "datos"
   ]
  },
  {
   "cell_type": "code",
   "execution_count": null,
   "metadata": {},
   "outputs": [],
   "source": [
    "df = pd.read_csv('Pres_Ingr_PrevDRN_CAsc.csv', sep = ';', header = 5, encoding = 'latin-1')"
   ]
  },
  {
   "cell_type": "code",
   "execution_count": null,
   "metadata": {},
   "outputs": [],
   "source": [
    "df"
   ]
  },
  {
   "cell_type": "code",
   "execution_count": null,
   "metadata": {},
   "outputs": [],
   "source": [
    "datos.columns"
   ]
  },
  {
   "cell_type": "code",
   "execution_count": 7,
   "metadata": {},
   "outputs": [
    {
     "data": {
      "text/html": [
       "<div>\n",
       "<style scoped>\n",
       "    .dataframe tbody tr th:only-of-type {\n",
       "        vertical-align: middle;\n",
       "    }\n",
       "\n",
       "    .dataframe tbody tr th {\n",
       "        vertical-align: top;\n",
       "    }\n",
       "\n",
       "    .dataframe thead th {\n",
       "        text-align: right;\n",
       "    }\n",
       "</style>\n",
       "<table border=\"1\" class=\"dataframe\">\n",
       "  <thead>\n",
       "    <tr style=\"text-align: right;\">\n",
       "      <th></th>\n",
       "      <th>Unnamed: 0</th>\n",
       "      <th>Abs.</th>\n",
       "      <th>Abs..1</th>\n",
       "      <th>Abs..2</th>\n",
       "      <th>Abs..3</th>\n",
       "      <th>% ver</th>\n",
       "      <th>% ver.1</th>\n",
       "      <th>% ver.2</th>\n",
       "      <th>% ver.3</th>\n",
       "      <th>%</th>\n",
       "    </tr>\n",
       "  </thead>\n",
       "  <tbody>\n",
       "    <tr>\n",
       "      <th>0</th>\n",
       "      <td>Centros residenciales</td>\n",
       "      <td>208.0</td>\n",
       "      <td>87.0</td>\n",
       "      <td>91.0</td>\n",
       "      <td>126.0</td>\n",
       "      <td>1.458523</td>\n",
       "      <td>0.593452</td>\n",
       "      <td>0.605496</td>\n",
       "      <td>0.805781</td>\n",
       "      <td>38.461538</td>\n",
       "    </tr>\n",
       "    <tr>\n",
       "      <th>1</th>\n",
       "      <td>Servicios de respiro y apoyo</td>\n",
       "      <td>122.0</td>\n",
       "      <td>92.0</td>\n",
       "      <td>92.0</td>\n",
       "      <td>122.0</td>\n",
       "      <td>0.855480</td>\n",
       "      <td>0.627558</td>\n",
       "      <td>0.612150</td>\n",
       "      <td>0.780201</td>\n",
       "      <td>32.608696</td>\n",
       "    </tr>\n",
       "    <tr>\n",
       "      <th>2</th>\n",
       "      <td>Centros de día asistenciales</td>\n",
       "      <td>4414.0</td>\n",
       "      <td>4464.0</td>\n",
       "      <td>4452.0</td>\n",
       "      <td>4529.0</td>\n",
       "      <td>30.951546</td>\n",
       "      <td>30.450205</td>\n",
       "      <td>29.622729</td>\n",
       "      <td>28.963356</td>\n",
       "      <td>1.729560</td>\n",
       "    </tr>\n",
       "    <tr>\n",
       "      <th>3</th>\n",
       "      <td>Comedores</td>\n",
       "      <td>558.0</td>\n",
       "      <td>658.0</td>\n",
       "      <td>763.0</td>\n",
       "      <td>896.0</td>\n",
       "      <td>3.912769</td>\n",
       "      <td>4.488404</td>\n",
       "      <td>5.076851</td>\n",
       "      <td>5.729999</td>\n",
       "      <td>17.431193</td>\n",
       "    </tr>\n",
       "    <tr>\n",
       "      <th>4</th>\n",
       "      <td>Otros centros no residenciales</td>\n",
       "      <td>138.0</td>\n",
       "      <td>155.0</td>\n",
       "      <td>179.0</td>\n",
       "      <td>174.0</td>\n",
       "      <td>0.967674</td>\n",
       "      <td>1.057299</td>\n",
       "      <td>1.191031</td>\n",
       "      <td>1.112745</td>\n",
       "      <td>-2.793296</td>\n",
       "    </tr>\n",
       "    <tr>\n",
       "      <th>5</th>\n",
       "      <td>TOTAL PERSONAS MAYORES</td>\n",
       "      <td>5440.0</td>\n",
       "      <td>5456.0</td>\n",
       "      <td>5577.0</td>\n",
       "      <td>5847.0</td>\n",
       "      <td>38.145993</td>\n",
       "      <td>37.216917</td>\n",
       "      <td>37.108257</td>\n",
       "      <td>37.392083</td>\n",
       "      <td>4.841313</td>\n",
       "    </tr>\n",
       "    <tr>\n",
       "      <th>6</th>\n",
       "      <td>Centros residenciales</td>\n",
       "      <td>19.0</td>\n",
       "      <td>14.0</td>\n",
       "      <td>8.0</td>\n",
       "      <td>9.0</td>\n",
       "      <td>0.133230</td>\n",
       "      <td>0.095498</td>\n",
       "      <td>0.053230</td>\n",
       "      <td>0.057556</td>\n",
       "      <td>12.500000</td>\n",
       "    </tr>\n",
       "    <tr>\n",
       "      <th>7</th>\n",
       "      <td>Servicio de respiro y apoyo</td>\n",
       "      <td>NaN</td>\n",
       "      <td>NaN</td>\n",
       "      <td>NaN</td>\n",
       "      <td>NaN</td>\n",
       "      <td>0.000000</td>\n",
       "      <td>0.000000</td>\n",
       "      <td>0.000000</td>\n",
       "      <td>0.000000</td>\n",
       "      <td>NaN</td>\n",
       "    </tr>\n",
       "    <tr>\n",
       "      <th>8</th>\n",
       "      <td>Centros de día</td>\n",
       "      <td>2150.0</td>\n",
       "      <td>2106.0</td>\n",
       "      <td>2188.0</td>\n",
       "      <td>2212.0</td>\n",
       "      <td>15.076082</td>\n",
       "      <td>14.365621</td>\n",
       "      <td>14.558520</td>\n",
       "      <td>14.145936</td>\n",
       "      <td>1.096892</td>\n",
       "    </tr>\n",
       "    <tr>\n",
       "      <th>9</th>\n",
       "      <td>Centros de recuperación y atención</td>\n",
       "      <td>821.0</td>\n",
       "      <td>765.0</td>\n",
       "      <td>778.0</td>\n",
       "      <td>805.0</td>\n",
       "      <td>5.756960</td>\n",
       "      <td>5.218281</td>\n",
       "      <td>5.176658</td>\n",
       "      <td>5.148046</td>\n",
       "      <td>3.470437</td>\n",
       "    </tr>\n",
       "    <tr>\n",
       "      <th>10</th>\n",
       "      <td>Centros de día y ocupacionales</td>\n",
       "      <td>2755.0</td>\n",
       "      <td>2803.0</td>\n",
       "      <td>2955.0</td>\n",
       "      <td>2926.0</td>\n",
       "      <td>19.318421</td>\n",
       "      <td>19.120055</td>\n",
       "      <td>19.661987</td>\n",
       "      <td>18.712029</td>\n",
       "      <td>-0.981387</td>\n",
       "    </tr>\n",
       "    <tr>\n",
       "      <th>11</th>\n",
       "      <td>Centros de inserción laboral</td>\n",
       "      <td>1057.0</td>\n",
       "      <td>1368.0</td>\n",
       "      <td>1183.0</td>\n",
       "      <td>1138.0</td>\n",
       "      <td>7.411822</td>\n",
       "      <td>9.331514</td>\n",
       "      <td>7.871449</td>\n",
       "      <td>7.277611</td>\n",
       "      <td>-3.803888</td>\n",
       "    </tr>\n",
       "    <tr>\n",
       "      <th>12</th>\n",
       "      <td>TOTAL DISCAPACIDAD/ENFERMEDAD</td>\n",
       "      <td>6802.0</td>\n",
       "      <td>7056.0</td>\n",
       "      <td>7112.0</td>\n",
       "      <td>7090.0</td>\n",
       "      <td>47.696515</td>\n",
       "      <td>48.130969</td>\n",
       "      <td>47.321844</td>\n",
       "      <td>45.341178</td>\n",
       "      <td>-0.309336</td>\n",
       "    </tr>\n",
       "    <tr>\n",
       "      <th>13</th>\n",
       "      <td>Centros residenciales menores/familia</td>\n",
       "      <td>NaN</td>\n",
       "      <td>4.0</td>\n",
       "      <td>4.0</td>\n",
       "      <td>4.0</td>\n",
       "      <td>0.000000</td>\n",
       "      <td>0.027285</td>\n",
       "      <td>0.026615</td>\n",
       "      <td>0.025580</td>\n",
       "      <td>NaN</td>\n",
       "    </tr>\n",
       "    <tr>\n",
       "      <th>14</th>\n",
       "      <td>Atención diurna para menores/familia</td>\n",
       "      <td>324.0</td>\n",
       "      <td>364.0</td>\n",
       "      <td>427.0</td>\n",
       "      <td>538.0</td>\n",
       "      <td>2.271930</td>\n",
       "      <td>2.482947</td>\n",
       "      <td>2.841174</td>\n",
       "      <td>3.440558</td>\n",
       "      <td>25.995316</td>\n",
       "    </tr>\n",
       "    <tr>\n",
       "      <th>15</th>\n",
       "      <td>TOTAL MENORES/FAMILIAS</td>\n",
       "      <td>324.0</td>\n",
       "      <td>368.0</td>\n",
       "      <td>431.0</td>\n",
       "      <td>542.0</td>\n",
       "      <td>2.271930</td>\n",
       "      <td>2.510232</td>\n",
       "      <td>2.867789</td>\n",
       "      <td>3.466138</td>\n",
       "      <td>25.754060</td>\n",
       "    </tr>\n",
       "    <tr>\n",
       "      <th>16</th>\n",
       "      <td>Alojamiento y centros residenciales</td>\n",
       "      <td>25.0</td>\n",
       "      <td>23.0</td>\n",
       "      <td>23.0</td>\n",
       "      <td>22.0</td>\n",
       "      <td>0.175303</td>\n",
       "      <td>0.156889</td>\n",
       "      <td>0.153037</td>\n",
       "      <td>0.140692</td>\n",
       "      <td>-4.347826</td>\n",
       "    </tr>\n",
       "    <tr>\n",
       "      <th>17</th>\n",
       "      <td>Centros de día</td>\n",
       "      <td>1197.0</td>\n",
       "      <td>1114.0</td>\n",
       "      <td>1233.0</td>\n",
       "      <td>1328.0</td>\n",
       "      <td>8.393521</td>\n",
       "      <td>7.598909</td>\n",
       "      <td>8.204139</td>\n",
       "      <td>8.492678</td>\n",
       "      <td>7.704785</td>\n",
       "    </tr>\n",
       "    <tr>\n",
       "      <th>18</th>\n",
       "      <td>Comedores sociales</td>\n",
       "      <td>473.0</td>\n",
       "      <td>643.0</td>\n",
       "      <td>653.0</td>\n",
       "      <td>808.0</td>\n",
       "      <td>3.316738</td>\n",
       "      <td>4.386085</td>\n",
       "      <td>4.344933</td>\n",
       "      <td>5.167232</td>\n",
       "      <td>23.736600</td>\n",
       "    </tr>\n",
       "    <tr>\n",
       "      <th>19</th>\n",
       "      <td>TOTAL EXCLUSIÓN</td>\n",
       "      <td>1695.0</td>\n",
       "      <td>1780.0</td>\n",
       "      <td>1909.0</td>\n",
       "      <td>2158.0</td>\n",
       "      <td>11.885562</td>\n",
       "      <td>12.141883</td>\n",
       "      <td>12.702109</td>\n",
       "      <td>13.800601</td>\n",
       "      <td>13.043478</td>\n",
       "    </tr>\n",
       "    <tr>\n",
       "      <th>20</th>\n",
       "      <td>TOTAL</td>\n",
       "      <td>14261.0</td>\n",
       "      <td>14660.0</td>\n",
       "      <td>15029.0</td>\n",
       "      <td>15637.0</td>\n",
       "      <td>100.000000</td>\n",
       "      <td>100.000000</td>\n",
       "      <td>100.000000</td>\n",
       "      <td>100.000000</td>\n",
       "      <td>4.045512</td>\n",
       "    </tr>\n",
       "    <tr>\n",
       "      <th>21</th>\n",
       "      <td>Fuente: OEE DIJPS. Estadística de Servicios So...</td>\n",
       "      <td>NaN</td>\n",
       "      <td>NaN</td>\n",
       "      <td>NaN</td>\n",
       "      <td>NaN</td>\n",
       "      <td>NaN</td>\n",
       "      <td>NaN</td>\n",
       "      <td>NaN</td>\n",
       "      <td>NaN</td>\n",
       "      <td>NaN</td>\n",
       "    </tr>\n",
       "  </tbody>\n",
       "</table>\n",
       "</div>"
      ],
      "text/plain": [
       "                                           Unnamed: 0     Abs.   Abs..1  \\\n",
       "0                               Centros residenciales    208.0     87.0   \n",
       "1                        Servicios de respiro y apoyo    122.0     92.0   \n",
       "2                        Centros de día asistenciales   4414.0   4464.0   \n",
       "3                                           Comedores    558.0    658.0   \n",
       "4                      Otros centros no residenciales    138.0    155.0   \n",
       "5                              TOTAL PERSONAS MAYORES   5440.0   5456.0   \n",
       "6                               Centros residenciales     19.0     14.0   \n",
       "7                         Servicio de respiro y apoyo      NaN      NaN   \n",
       "8                                      Centros de día   2150.0   2106.0   \n",
       "9                  Centros de recuperación y atención    821.0    765.0   \n",
       "10                     Centros de día y ocupacionales   2755.0   2803.0   \n",
       "11                       Centros de inserción laboral   1057.0   1368.0   \n",
       "12                      TOTAL DISCAPACIDAD/ENFERMEDAD   6802.0   7056.0   \n",
       "13              Centros residenciales menores/familia      NaN      4.0   \n",
       "14               Atención diurna para menores/familia    324.0    364.0   \n",
       "15                             TOTAL MENORES/FAMILIAS    324.0    368.0   \n",
       "16                Alojamiento y centros residenciales     25.0     23.0   \n",
       "17                                     Centros de día   1197.0   1114.0   \n",
       "18                                 Comedores sociales    473.0    643.0   \n",
       "19                                    TOTAL EXCLUSIÓN   1695.0   1780.0   \n",
       "20                                              TOTAL  14261.0  14660.0   \n",
       "21  Fuente: OEE DIJPS. Estadística de Servicios So...      NaN      NaN   \n",
       "\n",
       "     Abs..2   Abs..3       % ver     % ver.1     % ver.2     % ver.3  \\\n",
       "0      91.0    126.0    1.458523    0.593452    0.605496    0.805781   \n",
       "1      92.0    122.0    0.855480    0.627558    0.612150    0.780201   \n",
       "2    4452.0   4529.0   30.951546   30.450205   29.622729   28.963356   \n",
       "3     763.0    896.0    3.912769    4.488404    5.076851    5.729999   \n",
       "4     179.0    174.0    0.967674    1.057299    1.191031    1.112745   \n",
       "5    5577.0   5847.0   38.145993   37.216917   37.108257   37.392083   \n",
       "6       8.0      9.0    0.133230    0.095498    0.053230    0.057556   \n",
       "7       NaN      NaN    0.000000    0.000000    0.000000    0.000000   \n",
       "8    2188.0   2212.0   15.076082   14.365621   14.558520   14.145936   \n",
       "9     778.0    805.0    5.756960    5.218281    5.176658    5.148046   \n",
       "10   2955.0   2926.0   19.318421   19.120055   19.661987   18.712029   \n",
       "11   1183.0   1138.0    7.411822    9.331514    7.871449    7.277611   \n",
       "12   7112.0   7090.0   47.696515   48.130969   47.321844   45.341178   \n",
       "13      4.0      4.0    0.000000    0.027285    0.026615    0.025580   \n",
       "14    427.0    538.0    2.271930    2.482947    2.841174    3.440558   \n",
       "15    431.0    542.0    2.271930    2.510232    2.867789    3.466138   \n",
       "16     23.0     22.0    0.175303    0.156889    0.153037    0.140692   \n",
       "17   1233.0   1328.0    8.393521    7.598909    8.204139    8.492678   \n",
       "18    653.0    808.0    3.316738    4.386085    4.344933    5.167232   \n",
       "19   1909.0   2158.0   11.885562   12.141883   12.702109   13.800601   \n",
       "20  15029.0  15637.0  100.000000  100.000000  100.000000  100.000000   \n",
       "21      NaN      NaN         NaN         NaN         NaN         NaN   \n",
       "\n",
       "            %  \n",
       "0   38.461538  \n",
       "1   32.608696  \n",
       "2    1.729560  \n",
       "3   17.431193  \n",
       "4   -2.793296  \n",
       "5    4.841313  \n",
       "6   12.500000  \n",
       "7         NaN  \n",
       "8    1.096892  \n",
       "9    3.470437  \n",
       "10  -0.981387  \n",
       "11  -3.803888  \n",
       "12  -0.309336  \n",
       "13        NaN  \n",
       "14  25.995316  \n",
       "15  25.754060  \n",
       "16  -4.347826  \n",
       "17   7.704785  \n",
       "18  23.736600  \n",
       "19  13.043478  \n",
       "20   4.045512  \n",
       "21        NaN  "
      ]
     },
     "execution_count": 7,
     "metadata": {},
     "output_type": "execute_result"
    }
   ],
   "source": [
    "url = 'https://opendata.euskadi.eus/contenidos/estadistica/tablas_essec_2020/es_tblestad/data/2016-2019_Tablas_es-.xlsx'\n",
    "datos_pvasco = pd.read_excel(url, sheet_name='P3', header=2)\n",
    "datos_pvasco"
   ]
  },
  {
   "cell_type": "code",
   "execution_count": 8,
   "metadata": {},
   "outputs": [],
   "source": [
    "lista_hojas = ['P1','P2','P3']\n",
    "\n",
    "for hoja in lista_hojas:\n",
    "    datos_pvasco = pd.read_excel(url, sheet_name=hoja, header=2)\n",
    "    datos_pvasco.to_csv('Pais_vasco_hoja_' + str(hoja) + '.csv')"
   ]
  },
  {
   "cell_type": "code",
   "execution_count": 9,
   "metadata": {
    "collapsed": true,
    "jupyter": {
     "outputs_hidden": true
    },
    "tags": []
   },
   "outputs": [
    {
     "data": {
      "text/plain": [
       "<AxesSubplot: xlabel='Año', ylabel='Aceites/grasas  (kg)'>"
      ]
     },
     "execution_count": 9,
     "metadata": {},
     "output_type": "execute_result"
    },
    {
     "data": {
      "image/png": "[encoded data removed]",
      "text/plain": [
       "<Figure size 640x480 with 1 Axes>"
      ]
     },
     "metadata": {},
     "output_type": "display_data"
    }
   ],
   "source": [
    "import seaborn as sns\n",
    "sns.barplot(data = datos, x = 'Año', y = 'Aceites/grasas  (kg)')"
   ]
  },
  {
   "cell_type": "markdown",
   "metadata": {
    "colab_type": "text",
    "id": "GnScDfXghonv"
   },
   "source": [
    "## Bajando datos de la calidad del aire"
   ]
  },
  {
   "cell_type": "markdown",
   "metadata": {
    "colab_type": "text",
    "id": "oQL_gonKhonw",
    "tags": []
   },
   "source": [
    "También existe un dataset en Kaggle, pero vamos a ver un ejemplo"
   ]
  },
  {
   "cell_type": "code",
   "execution_count": null,
   "metadata": {
    "colab": {},
    "colab_type": "code",
    "id": "OPyVBu24honw"
   },
   "outputs": [],
   "source": [
    "import pandas as pd\n",
    "import requests\n",
    "import io\n",
    "import csv\n",
    "\n",
    "url2 = \"http://www.mambiente.munimadrid.es/opendata/horario.txt\"\n",
    "\n",
    "datos=pd.read_csv(url2, header=None)#.content\n"
   ]
  },
  {
   "cell_type": "code",
   "execution_count": null,
   "metadata": {
    "colab": {},
    "colab_type": "code",
    "collapsed": true,
    "id": "GTd8NHDLhony",
    "jupyter": {
     "outputs_hidden": true
    },
    "outputId": "bc75b9c6-cd36-4c39-ab2a-63dca3342e7a",
    "tags": []
   },
   "outputs": [],
   "source": [
    "datos"
   ]
  },
  {
   "cell_type": "markdown",
   "metadata": {},
   "source": [
    "# OpenStreetMap"
   ]
  },
  {
   "cell_type": "code",
   "execution_count": 10,
   "metadata": {},
   "outputs": [
    {
     "name": "stdout",
     "output_type": "stream",
     "text": [
      "<Response [200]>\n"
     ]
    }
   ],
   "source": [
    "# Amenities\n",
    "# https://wiki.openstreetmap.org/wiki/Key:amenity\n",
    "\n",
    "import requests\n",
    "import json\n",
    "import pandas as pd\n",
    "overpass_url = \"http://overpass-api.de/api/interpreter\"\n",
    "\n",
    "overpass_query = \"\"\"\n",
    "[out:json];\n",
    "node[\"amenity\"=\"cafe\"]\n",
    "  (40.420801, -3.694702,40.423754, -3.688167); \n",
    "out;\n",
    "\"\"\"\n",
    "response = requests.get(overpass_url, \n",
    "                        params={'data': overpass_query})\n",
    "print(response)\n",
    "data = response.json()"
   ]
  },
  {
   "cell_type": "code",
   "execution_count": 12,
   "metadata": {},
   "outputs": [
    {
     "data": {
      "text/plain": [
       "dict_keys(['version', 'generator', 'osm3s', 'elements'])"
      ]
     },
     "execution_count": 12,
     "metadata": {},
     "output_type": "execute_result"
    }
   ],
   "source": [
    "data.keys()"
   ]
  },
  {
   "cell_type": "code",
   "execution_count": 13,
   "metadata": {},
   "outputs": [
    {
     "data": {
      "text/plain": [
       "{'timestamp_osm_base': '2024-01-08T20:04:58Z',\n",
       " 'copyright': 'The data included in this document is from www.openstreetmap.org. The data is made available under ODbL.'}"
      ]
     },
     "execution_count": 13,
     "metadata": {},
     "output_type": "execute_result"
    }
   ],
   "source": [
    "data.get('osm3s')"
   ]
  },
  {
   "cell_type": "code",
   "execution_count": 14,
   "metadata": {},
   "outputs": [
    {
     "data": {
      "text/plain": [
       "{'timestamp_osm_base': '2024-01-08T20:04:58Z',\n",
       " 'copyright': 'The data included in this document is from www.openstreetmap.org. The data is made available under ODbL.'}"
      ]
     },
     "execution_count": 14,
     "metadata": {},
     "output_type": "execute_result"
    }
   ],
   "source": [
    "data['osm3s']"
   ]
  },
  {
   "cell_type": "code",
   "execution_count": 15,
   "metadata": {},
   "outputs": [
    {
     "data": {
      "text/plain": [
       "'The data included in this document is from www.openstreetmap.org. The data is made available under ODbL.'"
      ]
     },
     "execution_count": 15,
     "metadata": {},
     "output_type": "execute_result"
    }
   ],
   "source": [
    "data['osm3s']['copyright']"
   ]
  },
  {
   "cell_type": "code",
   "execution_count": 16,
   "metadata": {},
   "outputs": [
    {
     "data": {
      "text/plain": [
       "'Calle de Villalar'"
      ]
     },
     "execution_count": 16,
     "metadata": {},
     "output_type": "execute_result"
    }
   ],
   "source": [
    "data['elements'][0].get('tags').get('addr:street', 34)"
   ]
  },
  {
   "cell_type": "code",
   "execution_count": 17,
   "metadata": {},
   "outputs": [
    {
     "name": "stdout",
     "output_type": "stream",
     "text": [
      "{'type': 'node', 'id': 2977298934, 'lat': 40.4210523, 'lon': -3.689841, 'tags': {'addr:city': 'Madrid', 'addr:housenumber': '4', 'addr:street': 'Calle de Villalar', 'amenity': 'cafe', 'cuisine': 'regional', 'internet_access': 'yes', 'name': 'Café Villalar', 'phone': '+34 914358937', 'website': 'https://cafeteriavillalar.eatbu.com/'}}\n",
      "{'type': 'node', 'id': 3426617375, 'lat': 40.4221948, 'lon': -3.6923421, 'tags': {'amenity': 'cafe', 'name': 'Gran Café Gijón', 'phone': '+34 915 215 425', 'website': 'https://cafegijon.com/', 'wikidata': 'Q1025608', 'wikipedia': 'es:Café Gijón'}}\n",
      "{'type': 'node', 'id': 4703448419, 'lat': 40.4229908, 'lon': -3.6936524, 'tags': {'addr:city': 'Madrid', 'addr:housenumber': '6', 'addr:postcode': '28004', 'addr:street': 'Calle del Marqués de Monasterio', 'amenity': 'cafe', 'contact:facebook': 'https://www.facebook.com/hermanasae', 'contact:instagram': 'https://www.instagram.com/hermanasarce/', 'cuisine': 'cake', 'disused:amenity': 'restaurant', 'name': 'Hermanas Arce', 'old_name': 'Noteolvides', 'opening_hours': 'Tu-Fr 09:00-17:00; Sa 09:30-17:30'}}\n",
      "{'type': 'node', 'id': 4778747544, 'lat': 40.4223247, 'lon': -3.6909735, 'tags': {'addr:city': 'Madrid', 'addr:housenumber': '1', 'addr:postcode': '28001', 'addr:street': 'Calle de Recoletos', 'amenity': 'cafe', 'brand': 'Santagloria', 'brand:wikidata': 'Q54606497', 'contact:phone': '+34 914319000', 'contact:website': 'https://www.santagloria.com', 'name': 'Santagloria', 'shop': 'bakery'}}\n",
      "{'type': 'node', 'id': 9207850217, 'lat': 40.4218751, 'lon': -3.6901227, 'tags': {'amenity': 'cafe', 'name': 'masticar'}}\n"
     ]
    }
   ],
   "source": [
    "for element in data['elements']:\n",
    "    print(element)"
   ]
  },
  {
   "cell_type": "code",
   "execution_count": 19,
   "metadata": {},
   "outputs": [
    {
     "ename": "NameError",
     "evalue": "name 'data1' is not defined",
     "output_type": "error",
     "traceback": [
      "\u001b[0;31m---------------------------------------------------------------------------\u001b[0m",
      "\u001b[0;31mNameError\u001b[0m                                 Traceback (most recent call last)",
      "\u001b[1;32m/home/carlos/2023/DSPT_TBS_SVL_0923/2-Data Analytics/8-Sources/Web/Teoría/Web data.ipynb Cell 35\u001b[0m line \u001b[0;36m1\n\u001b[0;32m----> <a href='vscode-notebook-cell://wsl%2Bubuntu-20.04/home/carlos/2023/DSPT_TBS_SVL_0923/2-Data%20Analytics/8-Sources/Web/Teor%C3%ADa/Web%20data.ipynb#X50sdnNjb2RlLXJlbW90ZQ%3D%3D?line=0'>1</a>\u001b[0m lista_responses \u001b[39m=\u001b[39m [data1, data2, data3, data4]\n\u001b[1;32m      <a href='vscode-notebook-cell://wsl%2Bubuntu-20.04/home/carlos/2023/DSPT_TBS_SVL_0923/2-Data%20Analytics/8-Sources/Web/Teor%C3%ADa/Web%20data.ipynb#X50sdnNjb2RlLXJlbW90ZQ%3D%3D?line=1'>2</a>\u001b[0m \u001b[39mfor\u001b[39;00m data \u001b[39min\u001b[39;00m lista_responses:\n\u001b[1;32m      <a href='vscode-notebook-cell://wsl%2Bubuntu-20.04/home/carlos/2023/DSPT_TBS_SVL_0923/2-Data%20Analytics/8-Sources/Web/Teor%C3%ADa/Web%20data.ipynb#X50sdnNjb2RlLXJlbW90ZQ%3D%3D?line=2'>3</a>\u001b[0m     df_return \u001b[39m=\u001b[39m json_to_dataframe(data)\n",
      "\u001b[0;31mNameError\u001b[0m: name 'data1' is not defined"
     ]
    }
   ],
   "source": [
    "lista_responses = [data1, data2, data3, data4]\n",
    "for data in lista_responses:\n",
    "    df_return = json_to_dataframe(data)\n",
    "    df_results = df_results.concat(df_return)"
   ]
  },
  {
   "cell_type": "markdown",
   "metadata": {
    "colab_type": "text",
    "id": "JpS8k_tshonl"
   },
   "source": [
    "## Web scrapping de IMDB"
   ]
  },
  {
   "cell_type": "code",
   "execution_count": null,
   "metadata": {
    "colab": {},
    "colab_type": "code",
    "collapsed": true,
    "id": "mq61vOa_honl",
    "jupyter": {
     "outputs_hidden": true
    },
    "outputId": "51d09478-3b42-4620-c0dc-9349c9ad1327",
    "tags": []
   },
   "outputs": [],
   "source": [
    "from bs4 import BeautifulSoup\n",
    "import requests\n",
    "import re\n",
    "import pandas as pd\n",
    "\n",
    "# Download IMDB's Top 250 data\n",
    "url = 'http://www.imdb.com/chart/top'\n",
    "response = requests.get(url)\n",
    "soup = BeautifulSoup(response.text, 'lxml')\n",
    "\n",
    "movies = soup.select('td.titleColumn')\n",
    "links = [a.attrs.get('href') for a in soup.select('td.titleColumn a')]\n",
    "crew = [a.attrs.get('title') for a in soup.select('td.titleColumn a')]\n",
    "ratings = [b.attrs.get('data-value') for b in soup.select('td.posterColumn span[name=ir]')]\n",
    "votes = [b.attrs.get('data-value') for b in soup.select('td.ratingColumn strong')]\n",
    "\n",
    "imdb = []\n",
    "\n",
    "# Store each item into dictionary (data), then put those into a list (imdb)\n",
    "for index in range(0, len(movies)):\n",
    "    # Seperate movie into: 'place', 'title', 'year'\n",
    "    movie_string = movies[index].get_text()\n",
    "    movie = (' '.join(movie_string.split()).replace('.', ''))\n",
    "    movie_title = movie[len(str(index))+1:-7]\n",
    "    year = re.search('\\((.*?)\\)', movie_string).group(1)\n",
    "    place = movie[:len(str(index))-(len(movie))]\n",
    "    data = {\"movie_title\": movie_title,\n",
    "            \"year\": year,\n",
    "            \"place\": place,\n",
    "            \"star_cast\": crew[index],\n",
    "            \"rating\": ratings[index],\n",
    "            \"vote\": votes[index],\n",
    "            \"link\": links[index]}\n",
    "    imdb.append(data)\n",
    "df = pd.DataFrame(imdb)\n",
    "df\n",
    "\n",
    "\n",
    "#for item in imdb:\n",
    "#    print(item['place'], '-', item['movie_title'], '('+item['year']+') -', 'Starring:', item['star_cast'])"
   ]
  },
  {
   "cell_type": "markdown",
   "metadata": {
    "colab_type": "text",
    "id": "KoE5s2BThono"
   },
   "source": [
    "## Acediendo a datos de twitter\n",
    "Para esta demo utilizaremos el paquete [tweepy](https://www.tweepy.org/) para atacar datos de Twitter desde Python.\n",
    "\n",
    "Necesitamos registrarnos en la [web de desarrolladores](https://developer.twitter.com/en/apply-for-access) para obtener unas credenciales."
   ]
  },
  {
   "cell_type": "code",
   "execution_count": null,
   "metadata": {
    "colab": {},
    "colab_type": "code",
    "id": "kTUQb5vphono"
   },
   "outputs": [],
   "source": [
    "import tweepy  \n",
    "import time\n",
    "import csv\n",
    "\n",
    "import json\n",
    "\n",
    "with open('./credentials.json') as f:\n",
    "    credentials = json.load(f)\n",
    "    \n",
    "    \n",
    "# Credenciales de la web de desarroladores\n",
    "access_token = credentials['access_token']  \n",
    "access_token_secret = credentials['access_token_secret']  \n",
    "consumer_key = credentials['consumer_key']\n",
    "consumer_secret = credentials['consumer_secret'] \n",
    "\n",
    "# Nos autenticamos en la API\n",
    "try:\n",
    "    auth = tweepy.OAuthHandler(consumer_key, consumer_secret)  \n",
    "    auth.set_access_token(access_token, access_token_secret)  \n",
    "    api = tweepy.API(auth,wait_on_rate_limit=True)\n",
    "    print(\"Authentication OK\")\n",
    "except:\n",
    "    print(\"Error during authentication\")"
   ]
  },
  {
   "cell_type": "code",
   "execution_count": null,
   "metadata": {
    "colab": {},
    "colab_type": "code",
    "collapsed": true,
    "id": "tkNpF4Uwhonq",
    "jupyter": {
     "outputs_hidden": true
    },
    "outputId": "b8c02159-e16f-460f-eed5-2331e3f9c204",
    "tags": []
   },
   "outputs": [],
   "source": [
    "csvFile = open('tweet_covid19.csv', 'a')\n",
    "\n",
    "#Use csv Writer\n",
    "csvWriter = csv.writer(csvFile)\n",
    "\n",
    "for tweet in tweepy.Cursor(api.search,q=\"#COVID19\",count=50,\n",
    "                           lang=\"es\",\n",
    "                           since=\"2020-09-05\").items(50):\n",
    "    \n",
    "    print(tweet.created_at, tweet.text)\n",
    "    csvWriter.writerow([tweet.created_at, tweet.text.encode('utf-8')])"
   ]
  },
  {
   "cell_type": "markdown",
   "metadata": {},
   "source": [
    "## Datos del espacio"
   ]
  },
  {
   "cell_type": "code",
   "execution_count": 28,
   "metadata": {
    "tags": []
   },
   "outputs": [],
   "source": [
    "'''\n",
    "https://thespacedevs.com/llapi\n",
    "https://ll.thespacedevs.com/2.2.0/swagger\n",
    "'''\n",
    "space_url = \"http://ll.thespacedevs.com/2.2.0\"\n",
    "\n",
    "path = \"/astronaut\"\n",
    "\n",
    "url_total = space_url + path\n",
    "\n",
    "response = requests.get(url_total)"
   ]
  },
  {
   "cell_type": "code",
   "execution_count": 25,
   "metadata": {
    "collapsed": true,
    "jupyter": {
     "outputs_hidden": true
    },
    "tags": []
   },
   "outputs": [
    {
     "name": "stdout",
     "output_type": "stream",
     "text": [
      "200\n"
     ]
    },
    {
     "data": {
      "text/plain": [
       "{'count': 752,\n",
       " 'next': 'https://ll.thespacedevs.com/2.2.0/astronaut/?limit=10&offset=10',\n",
       " 'previous': None,\n",
       " 'results': [{'id': 1,\n",
       "   'url': 'https://ll.thespacedevs.com/2.2.0/astronaut/1/',\n",
       "   'name': 'Thomas Pesquet',\n",
       "   'status': {'id': 1, 'name': 'Active'},\n",
       "   'type': {'id': 2, 'name': 'Government'},\n",
       "   'in_space': False,\n",
       "   'time_in_space': 'P396DT11H33M45S',\n",
       "   'eva_time': 'P1DT15H54M',\n",
       "   'age': 45,\n",
       "   'date_of_birth': '1978-02-27',\n",
       "   'date_of_death': None,\n",
       "   'nationality': 'French',\n",
       "   'bio': 'Thomas Gautier Pesquet is a French aerospace engineer, pilot, and European Space Agency astronaut. Pesquet was selected by ESA as a candidate in May 2009, and he successfully completed his basic training in November 2010. From November 2016 to June 2017, Pesquet was part of Expeditions 50 and 51 on the International Space Station as a flight engineer.',\n",
       "   'twitter': 'https://twitter.com/Thom_astro',\n",
       "   'instagram': 'https://instagram.com/thom_astro',\n",
       "   'wiki': 'https://en.wikipedia.org/wiki/Thomas_Pesquet',\n",
       "   'agency': {'id': 27,\n",
       "    'url': 'https://ll.thespacedevs.com/2.2.0/agencies/27/',\n",
       "    'name': 'European Space Agency',\n",
       "    'featured': False,\n",
       "    'type': 'Multinational',\n",
       "    'country_code': 'AUT,BEL,CZE,DNK,FIN,FRA,DEU,GRC,IRE,ITA,LUZ,NLD,NOR,POL,PRT,ROU,ESP,SWE,CHE,GBR',\n",
       "    'abbrev': 'ESA',\n",
       "    'description': \"The European Space Agency is an intergovernmental organisation of 22 member states. Established in 1975 and headquartered in Paris, France, ESA has a worldwide staff of about 2,000 employees.\\r\\n\\r\\nESA's space flight programme includes human spaceflight (mainly through participation in the International Space Station program); the launch and operation of unmanned exploration missions to other planets and the Moon; Earth observation, science and telecommunication; designing launch vehicles; and maintaining a major spaceport, the Guiana Space Centre at Kourou, French Guiana.\",\n",
       "    'administrator': 'Director General: Josef Aschbacher',\n",
       "    'founding_year': '1975',\n",
       "    'launchers': '',\n",
       "    'spacecraft': '',\n",
       "    'parent': None,\n",
       "    'image_url': None,\n",
       "    'logo_url': 'https://spacelaunchnow-prod-east.nyc3.digitaloceanspaces.com/media/logo/european2520space2520agency_logo_20221130101442.png'},\n",
       "   'profile_image': 'https://spacelaunchnow-prod-east.nyc3.digitaloceanspaces.com/media/astronaut_images/thomas2520pesquet_image_20200102120546.jpeg',\n",
       "   'profile_image_thumbnail': 'https://spacelaunchnow-prod-east.nyc3.digitaloceanspaces.com/media/astronaut_images/thomas_pesquet_thumbnail_20220911033657.jpeg',\n",
       "   'flights_count': 2,\n",
       "   'landings_count': 2,\n",
       "   'spacewalks_count': 6,\n",
       "   'last_flight': '2021-04-23T09:49:02Z',\n",
       "   'first_flight': '2016-11-17T20:20:13Z'},\n",
       "  {'id': 2,\n",
       "   'url': 'https://ll.thespacedevs.com/2.2.0/astronaut/2/',\n",
       "   'name': 'Claude Nicollier',\n",
       "   'status': {'id': 2, 'name': 'Retired'},\n",
       "   'type': {'id': 2, 'name': 'Government'},\n",
       "   'in_space': False,\n",
       "   'time_in_space': 'P42DT12H3M12S',\n",
       "   'eva_time': 'PT8H10M',\n",
       "   'age': 79,\n",
       "   'date_of_birth': '1944-09-02',\n",
       "   'date_of_death': None,\n",
       "   'nationality': 'Swiss',\n",
       "   'bio': 'Claude Nicollier is the first astronaut from Switzerland. He has flown on four Space Shuttle missions. His first spaceflight (STS-46) was in 1992, and his final spaceflight (STS-103) was in 1999. He took part in two servicing missions to the Hubble Space Telescope (called STS-61 and STS-103). During his final spaceflight he participated in a spacewalk, becoming the first European Space Agency astronaut to do so during a Space Shuttle mission. In 2000 he was assigned to the Astronaut Office Extravehicular Activity Branch, while maintaining a position as Lead ESA Astronaut in Houston. Nicollier retired from ESA in April 2007.',\n",
       "   'twitter': 'https://twitter.com/Astroclaude',\n",
       "   'instagram': None,\n",
       "   'wiki': 'https://en.wikipedia.org/wiki/Claude_Nicollier',\n",
       "   'agency': {'id': 27,\n",
       "    'url': 'https://ll.thespacedevs.com/2.2.0/agencies/27/',\n",
       "    'name': 'European Space Agency',\n",
       "    'featured': False,\n",
       "    'type': 'Multinational',\n",
       "    'country_code': 'AUT,BEL,CZE,DNK,FIN,FRA,DEU,GRC,IRE,ITA,LUZ,NLD,NOR,POL,PRT,ROU,ESP,SWE,CHE,GBR',\n",
       "    'abbrev': 'ESA',\n",
       "    'description': \"The European Space Agency is an intergovernmental organisation of 22 member states. Established in 1975 and headquartered in Paris, France, ESA has a worldwide staff of about 2,000 employees.\\r\\n\\r\\nESA's space flight programme includes human spaceflight (mainly through participation in the International Space Station program); the launch and operation of unmanned exploration missions to other planets and the Moon; Earth observation, science and telecommunication; designing launch vehicles; and maintaining a major spaceport, the Guiana Space Centre at Kourou, French Guiana.\",\n",
       "    'administrator': 'Director General: Josef Aschbacher',\n",
       "    'founding_year': '1975',\n",
       "    'launchers': '',\n",
       "    'spacecraft': '',\n",
       "    'parent': None,\n",
       "    'image_url': None,\n",
       "    'logo_url': 'https://spacelaunchnow-prod-east.nyc3.digitaloceanspaces.com/media/logo/european2520space2520agency_logo_20221130101442.png'},\n",
       "   'profile_image': 'https://spacelaunchnow-prod-east.nyc3.digitaloceanspaces.com/media/astronaut_images/claude2520nicollier_image_20181127203218.jpg',\n",
       "   'profile_image_thumbnail': 'https://spacelaunchnow-prod-east.nyc3.digitaloceanspaces.com/media/astronaut_images/claude_nicollie_thumbnail_20220911033747.jpeg',\n",
       "   'flights_count': 4,\n",
       "   'landings_count': 4,\n",
       "   'spacewalks_count': 1,\n",
       "   'last_flight': '1999-12-20T00:50:00Z',\n",
       "   'first_flight': '1992-07-31T13:56:48Z'},\n",
       "  {'id': 3,\n",
       "   'url': 'https://ll.thespacedevs.com/2.2.0/astronaut/3/',\n",
       "   'name': 'Tim Peake',\n",
       "   'status': {'id': 2, 'name': 'Retired'},\n",
       "   'type': {'id': 2, 'name': 'Government'},\n",
       "   'in_space': False,\n",
       "   'time_in_space': 'P185DT22H11M51S',\n",
       "   'eva_time': 'PT4H43M',\n",
       "   'age': 51,\n",
       "   'date_of_birth': '1972-04-07',\n",
       "   'date_of_death': None,\n",
       "   'nationality': 'British',\n",
       "   'bio': \"Major Timothy Nigel Peake CMG is a British Army Air Corps officer, former European Space Agency astronaut and International Space Station (ISS) crew member.  He is the first British ESA astronaut, the second astronaut to bear a flag of the United Kingdom patch, the sixth person born in the United Kingdom to go on board the International Space Station and the seventh UK-born person in space. He began the ESA's intensive astronaut basic training course in September 2009 and graduated on 22 November 2010\",\n",
       "   'twitter': 'https://twitter.com/astro_timpeake',\n",
       "   'instagram': 'https://www.instagram.com/astro_timpeake/',\n",
       "   'wiki': 'https://en.wikipedia.org/wiki/Tim_Peake',\n",
       "   'agency': {'id': 27,\n",
       "    'url': 'https://ll.thespacedevs.com/2.2.0/agencies/27/',\n",
       "    'name': 'European Space Agency',\n",
       "    'featured': False,\n",
       "    'type': 'Multinational',\n",
       "    'country_code': 'AUT,BEL,CZE,DNK,FIN,FRA,DEU,GRC,IRE,ITA,LUZ,NLD,NOR,POL,PRT,ROU,ESP,SWE,CHE,GBR',\n",
       "    'abbrev': 'ESA',\n",
       "    'description': \"The European Space Agency is an intergovernmental organisation of 22 member states. Established in 1975 and headquartered in Paris, France, ESA has a worldwide staff of about 2,000 employees.\\r\\n\\r\\nESA's space flight programme includes human spaceflight (mainly through participation in the International Space Station program); the launch and operation of unmanned exploration missions to other planets and the Moon; Earth observation, science and telecommunication; designing launch vehicles; and maintaining a major spaceport, the Guiana Space Centre at Kourou, French Guiana.\",\n",
       "    'administrator': 'Director General: Josef Aschbacher',\n",
       "    'founding_year': '1975',\n",
       "    'launchers': '',\n",
       "    'spacecraft': '',\n",
       "    'parent': None,\n",
       "    'image_url': None,\n",
       "    'logo_url': 'https://spacelaunchnow-prod-east.nyc3.digitaloceanspaces.com/media/logo/european2520space2520agency_logo_20221130101442.png'},\n",
       "   'profile_image': 'https://spacelaunchnow-prod-east.nyc3.digitaloceanspaces.com/media/astronaut_images/tim_peake_image_20230120154350.jpg',\n",
       "   'profile_image_thumbnail': 'https://spacelaunchnow-prod-east.nyc3.digitaloceanspaces.com/media/astronaut_images/tim_peake_thumbnail_20230120154351.jpeg',\n",
       "   'flights_count': 1,\n",
       "   'landings_count': 1,\n",
       "   'spacewalks_count': 1,\n",
       "   'last_flight': '2015-12-15T11:03:09Z',\n",
       "   'first_flight': '2015-12-15T11:03:09Z'},\n",
       "  {'id': 4,\n",
       "   'url': 'https://ll.thespacedevs.com/2.2.0/astronaut/4/',\n",
       "   'name': 'Buzz Aldrin',\n",
       "   'status': {'id': 2, 'name': 'Retired'},\n",
       "   'type': {'id': 2, 'name': 'Government'},\n",
       "   'in_space': False,\n",
       "   'time_in_space': 'P12DT1H52M27S',\n",
       "   'eva_time': 'PT8H1M40S',\n",
       "   'age': 93,\n",
       "   'date_of_birth': '1930-01-20',\n",
       "   'date_of_death': None,\n",
       "   'nationality': 'American',\n",
       "   'bio': 'Buzz Aldrin; born Edwin Eugene Aldrin Jr.; is an American engineer, former astronaut, and fighter pilot.\\r\\nAs Lunar Module Pilot on the Apollo 11 mission, he and mission commander Neil Armstrong were the first two humans to land on the Moon.',\n",
       "   'twitter': 'https://twitter.com/TheRealBuzz',\n",
       "   'instagram': 'https://www.instagram.com/drbuzzaldrin/',\n",
       "   'wiki': 'https://en.wikipedia.org/wiki/Buzz_Aldrin',\n",
       "   'agency': {'id': 44,\n",
       "    'url': 'https://ll.thespacedevs.com/2.2.0/agencies/44/',\n",
       "    'name': 'National Aeronautics and Space Administration',\n",
       "    'featured': True,\n",
       "    'type': 'Government',\n",
       "    'country_code': 'USA',\n",
       "    'abbrev': 'NASA',\n",
       "    'description': 'The National Aeronautics and Space Administration is an independent agency of the executive branch of the United States federal government responsible for the civilian space program, as well as aeronautics and aerospace research. NASA have many launch facilities but most are inactive. The most commonly used pad will be LC-39B at Kennedy Space Center in Florida.',\n",
       "    'administrator': 'Administrator: Bill Nelson',\n",
       "    'founding_year': '1958',\n",
       "    'launchers': 'Space Shuttle | SLS',\n",
       "    'spacecraft': 'Orion',\n",
       "    'parent': None,\n",
       "    'image_url': 'https://spacelaunchnow-prod-east.nyc3.digitaloceanspaces.com/media/agency_images/national2520aeronautics2520and2520space2520administration_image_20190207032448.jpeg',\n",
       "    'logo_url': 'https://spacelaunchnow-prod-east.nyc3.digitaloceanspaces.com/media/logo/national2520aeronautics2520and2520space2520administration_logo_20190207032448.png'},\n",
       "   'profile_image': 'https://spacelaunchnow-prod-east.nyc3.digitaloceanspaces.com/media/astronaut_images/buzz_aldrin_image_20220911034547.jpeg',\n",
       "   'profile_image_thumbnail': 'https://spacelaunchnow-prod-east.nyc3.digitaloceanspaces.com/media/astronaut_images/buzz_aldrin_thumbnail_20220911034547.jpeg',\n",
       "   'flights_count': 2,\n",
       "   'landings_count': 2,\n",
       "   'spacewalks_count': 4,\n",
       "   'last_flight': '1969-07-16T13:32:00Z',\n",
       "   'first_flight': '1966-11-11T20:46:33Z'},\n",
       "  {'id': 5,\n",
       "   'url': 'https://ll.thespacedevs.com/2.2.0/astronaut/5/',\n",
       "   'name': 'Chris Hadfield',\n",
       "   'status': {'id': 2, 'name': 'Retired'},\n",
       "   'type': {'id': 2, 'name': 'Government'},\n",
       "   'in_space': False,\n",
       "   'time_in_space': 'P165DT16H19M',\n",
       "   'eva_time': 'PT14H50M',\n",
       "   'age': 64,\n",
       "   'date_of_birth': '1959-08-29',\n",
       "   'date_of_death': None,\n",
       "   'nationality': 'Canadian',\n",
       "   'bio': 'Chris Austin Hadfield is a Canadian retired astronaut, engineer, and former Royal Canadian Air Force fighter pilot.\\r\\nThe first Canadian to walk in space, Hadfield has flown two space shuttle missions and served as commander of the International Space Station.',\n",
       "   'twitter': 'https://twitter.com/Cmdr_Hadfield',\n",
       "   'instagram': 'https://www.instagram.com/colchrishadfield/',\n",
       "   'wiki': 'https://en.wikipedia.org/wiki/Chris_Hadfield',\n",
       "   'agency': {'id': 16,\n",
       "    'url': 'https://ll.thespacedevs.com/2.2.0/agencies/16/',\n",
       "    'name': 'Canadian Space Agency',\n",
       "    'featured': False,\n",
       "    'type': 'Government',\n",
       "    'country_code': 'CAN',\n",
       "    'abbrev': 'CSA',\n",
       "    'description': 'The Canadian Space Agency was established by the Canadian Space Agency Act which received Royal Assent on May 10, 1990. \\r\\n\\r\\nThe Canadian space program is administered by the Canadian Space Agency. Canada has contributed technology, expertise and personnel to the world space effort, especially in collaboration with ESA and NASA. In addition to its astronauts and satellites, some of the most notable Canadian technological contributions to space exploration include the Canadarm on the Space Shuttle and Canadarm2 on the International Space Station.',\n",
       "    'administrator': 'President: Lisa Campbell',\n",
       "    'founding_year': '1990',\n",
       "    'launchers': '',\n",
       "    'spacecraft': '',\n",
       "    'parent': None,\n",
       "    'image_url': None,\n",
       "    'logo_url': 'https://spacelaunchnow-prod-east.nyc3.digitaloceanspaces.com/media/logo/canadian2520space2520agency_logo_20231122160211.png'},\n",
       "   'profile_image': 'https://spacelaunchnow-prod-east.nyc3.digitaloceanspaces.com/media/astronaut_images/chris_hadfield_image_20220911034200.jpeg',\n",
       "   'profile_image_thumbnail': 'https://spacelaunchnow-prod-east.nyc3.digitaloceanspaces.com/media/astronaut_images/chris_hadfield_thumbnail_20220911034200.jpeg',\n",
       "   'flights_count': 3,\n",
       "   'landings_count': 3,\n",
       "   'spacewalks_count': 2,\n",
       "   'last_flight': '2012-12-19T12:12:35Z',\n",
       "   'first_flight': '1995-11-12T12:30:43Z'},\n",
       "  {'id': 6,\n",
       "   'url': 'https://ll.thespacedevs.com/2.2.0/astronaut/6/',\n",
       "   'name': 'David Saint-Jacques',\n",
       "   'status': {'id': 1, 'name': 'Active'},\n",
       "   'type': {'id': 2, 'name': 'Government'},\n",
       "   'in_space': False,\n",
       "   'time_in_space': 'P203DT12H28M8S',\n",
       "   'eva_time': 'PT6H29M',\n",
       "   'age': 54,\n",
       "   'date_of_birth': '1970-01-06',\n",
       "   'date_of_death': None,\n",
       "   'nationality': 'Canadian',\n",
       "   'bio': 'David Saint-Jacques is a Canadian astronaut with the Canadian Space Agency (CSA).\\r\\nHe was also an engineer, an astrophysicist, and a physician prior to joining the CSA.\\r\\nHe was selected to join the CSA in the 2009 CSA selection along with Jeremy Hansen.',\n",
       "   'twitter': 'https://twitter.com/Astro_DavidS',\n",
       "   'instagram': 'https://www.instagram.com/astrodavids/',\n",
       "   'wiki': 'https://en.wikipedia.org/wiki/David_Saint-Jacques',\n",
       "   'agency': {'id': 16,\n",
       "    'url': 'https://ll.thespacedevs.com/2.2.0/agencies/16/',\n",
       "    'name': 'Canadian Space Agency',\n",
       "    'featured': False,\n",
       "    'type': 'Government',\n",
       "    'country_code': 'CAN',\n",
       "    'abbrev': 'CSA',\n",
       "    'description': 'The Canadian Space Agency was established by the Canadian Space Agency Act which received Royal Assent on May 10, 1990. \\r\\n\\r\\nThe Canadian space program is administered by the Canadian Space Agency. Canada has contributed technology, expertise and personnel to the world space effort, especially in collaboration with ESA and NASA. In addition to its astronauts and satellites, some of the most notable Canadian technological contributions to space exploration include the Canadarm on the Space Shuttle and Canadarm2 on the International Space Station.',\n",
       "    'administrator': 'President: Lisa Campbell',\n",
       "    'founding_year': '1990',\n",
       "    'launchers': '',\n",
       "    'spacecraft': '',\n",
       "    'parent': None,\n",
       "    'image_url': None,\n",
       "    'logo_url': 'https://spacelaunchnow-prod-east.nyc3.digitaloceanspaces.com/media/logo/canadian2520space2520agency_logo_20231122160211.png'},\n",
       "   'profile_image': 'https://spacelaunchnow-prod-east.nyc3.digitaloceanspaces.com/media/astronaut_images/david_saint-jac_image_20220911034207.jpeg',\n",
       "   'profile_image_thumbnail': 'https://spacelaunchnow-prod-east.nyc3.digitaloceanspaces.com/media/astronaut_images/david_saint-jac_thumbnail_20220911034208.jpeg',\n",
       "   'flights_count': 1,\n",
       "   'landings_count': 1,\n",
       "   'spacewalks_count': 1,\n",
       "   'last_flight': '2018-12-03T11:31:52Z',\n",
       "   'first_flight': '2018-12-03T11:31:52Z'},\n",
       "  {'id': 7,\n",
       "   'url': 'https://ll.thespacedevs.com/2.2.0/astronaut/7/',\n",
       "   'name': 'Anne McClain',\n",
       "   'status': {'id': 1, 'name': 'Active'},\n",
       "   'type': {'id': 2, 'name': 'Government'},\n",
       "   'in_space': False,\n",
       "   'time_in_space': 'P203DT12H28M8S',\n",
       "   'eva_time': 'PT13H8M',\n",
       "   'age': 44,\n",
       "   'date_of_birth': '1979-06-07',\n",
       "   'date_of_death': None,\n",
       "   'nationality': 'American',\n",
       "   'bio': 'Anne Charlotte McClain is a lieutenant colonel in the U.S. Army currently assigned to NASA Astronaut Group 21.',\n",
       "   'twitter': 'https://twitter.com/AstroAnnimal',\n",
       "   'instagram': None,\n",
       "   'wiki': 'https://en.wikipedia.org/wiki/Anne_McClain',\n",
       "   'agency': {'id': 44,\n",
       "    'url': 'https://ll.thespacedevs.com/2.2.0/agencies/44/',\n",
       "    'name': 'National Aeronautics and Space Administration',\n",
       "    'featured': True,\n",
       "    'type': 'Government',\n",
       "    'country_code': 'USA',\n",
       "    'abbrev': 'NASA',\n",
       "    'description': 'The National Aeronautics and Space Administration is an independent agency of the executive branch of the United States federal government responsible for the civilian space program, as well as aeronautics and aerospace research. NASA have many launch facilities but most are inactive. The most commonly used pad will be LC-39B at Kennedy Space Center in Florida.',\n",
       "    'administrator': 'Administrator: Bill Nelson',\n",
       "    'founding_year': '1958',\n",
       "    'launchers': 'Space Shuttle | SLS',\n",
       "    'spacecraft': 'Orion',\n",
       "    'parent': None,\n",
       "    'image_url': 'https://spacelaunchnow-prod-east.nyc3.digitaloceanspaces.com/media/agency_images/national2520aeronautics2520and2520space2520administration_image_20190207032448.jpeg',\n",
       "    'logo_url': 'https://spacelaunchnow-prod-east.nyc3.digitaloceanspaces.com/media/logo/national2520aeronautics2520and2520space2520administration_logo_20190207032448.png'},\n",
       "   'profile_image': 'https://spacelaunchnow-prod-east.nyc3.digitaloceanspaces.com/media/astronaut_images/anne2520mcclain_image_20181127210625.jpg',\n",
       "   'profile_image_thumbnail': 'https://spacelaunchnow-prod-east.nyc3.digitaloceanspaces.com/media/astronaut_images/anne_mcclain_thumbnail_20220911034153.jpeg',\n",
       "   'flights_count': 1,\n",
       "   'landings_count': 1,\n",
       "   'spacewalks_count': 2,\n",
       "   'last_flight': '2018-12-03T11:31:52Z',\n",
       "   'first_flight': '2018-12-03T11:31:52Z'},\n",
       "  {'id': 8,\n",
       "   'url': 'https://ll.thespacedevs.com/2.2.0/astronaut/8/',\n",
       "   'name': 'Andrew R. Morgan',\n",
       "   'status': {'id': 1, 'name': 'Active'},\n",
       "   'type': {'id': 2, 'name': 'Government'},\n",
       "   'in_space': False,\n",
       "   'time_in_space': 'P271DT12H48M22S',\n",
       "   'eva_time': 'P1DT21H48M',\n",
       "   'age': 47,\n",
       "   'date_of_birth': '1976-02-05',\n",
       "   'date_of_death': None,\n",
       "   'nationality': 'American',\n",
       "   'bio': 'Andrew Richard \"Drew\" Morgan is a NASA astronaut from the class of 2013.',\n",
       "   'twitter': 'https://twitter.com/AstroDrewMorgan',\n",
       "   'instagram': 'https://www.instagram.com/astrodrewmorgan/',\n",
       "   'wiki': 'https://en.wikipedia.org/wiki/Andrew_R._Morgan',\n",
       "   'agency': {'id': 44,\n",
       "    'url': 'https://ll.thespacedevs.com/2.2.0/agencies/44/',\n",
       "    'name': 'National Aeronautics and Space Administration',\n",
       "    'featured': True,\n",
       "    'type': 'Government',\n",
       "    'country_code': 'USA',\n",
       "    'abbrev': 'NASA',\n",
       "    'description': 'The National Aeronautics and Space Administration is an independent agency of the executive branch of the United States federal government responsible for the civilian space program, as well as aeronautics and aerospace research. NASA have many launch facilities but most are inactive. The most commonly used pad will be LC-39B at Kennedy Space Center in Florida.',\n",
       "    'administrator': 'Administrator: Bill Nelson',\n",
       "    'founding_year': '1958',\n",
       "    'launchers': 'Space Shuttle | SLS',\n",
       "    'spacecraft': 'Orion',\n",
       "    'parent': None,\n",
       "    'image_url': 'https://spacelaunchnow-prod-east.nyc3.digitaloceanspaces.com/media/agency_images/national2520aeronautics2520and2520space2520administration_image_20190207032448.jpeg',\n",
       "    'logo_url': 'https://spacelaunchnow-prod-east.nyc3.digitaloceanspaces.com/media/logo/national2520aeronautics2520and2520space2520administration_logo_20190207032448.png'},\n",
       "   'profile_image': 'https://spacelaunchnow-prod-east.nyc3.digitaloceanspaces.com/media/astronaut_images/andrew_r._morga_image_20220911034204.jpeg',\n",
       "   'profile_image_thumbnail': 'https://spacelaunchnow-prod-east.nyc3.digitaloceanspaces.com/media/astronaut_images/andrew_r._morga_thumbnail_20220911034204.jpeg',\n",
       "   'flights_count': 1,\n",
       "   'landings_count': 1,\n",
       "   'spacewalks_count': 7,\n",
       "   'last_flight': '2019-07-20T16:28:21Z',\n",
       "   'first_flight': '2019-07-20T16:28:21Z'},\n",
       "  {'id': 9,\n",
       "   'url': 'https://ll.thespacedevs.com/2.2.0/astronaut/9/',\n",
       "   'name': 'Nick Hague',\n",
       "   'status': {'id': 1, 'name': 'Active'},\n",
       "   'type': {'id': 2, 'name': 'Government'},\n",
       "   'in_space': False,\n",
       "   'time_in_space': 'P202DT16H3M37S',\n",
       "   'eva_time': 'PT19H56M',\n",
       "   'age': 48,\n",
       "   'date_of_birth': '1975-09-24',\n",
       "   'date_of_death': None,\n",
       "   'nationality': 'American',\n",
       "   'bio': 'Tyler Nicklaus Hague is an American Flight Test Engineer and a NASA astronaut of the class of 2013.\\r\\nSelected to be a flight engineer of Expedition 57 / 58 to the International Space Station, he launched on board Soyuz MS-10, which aborted shortly after launch on October 11, 2018.',\n",
       "   'twitter': 'https://twitter.com/AstroHague',\n",
       "   'instagram': 'https://www.instagram.com/astrohague/',\n",
       "   'wiki': 'https://en.wikipedia.org/wiki/Nick_Hague',\n",
       "   'agency': {'id': 44,\n",
       "    'url': 'https://ll.thespacedevs.com/2.2.0/agencies/44/',\n",
       "    'name': 'National Aeronautics and Space Administration',\n",
       "    'featured': True,\n",
       "    'type': 'Government',\n",
       "    'country_code': 'USA',\n",
       "    'abbrev': 'NASA',\n",
       "    'description': 'The National Aeronautics and Space Administration is an independent agency of the executive branch of the United States federal government responsible for the civilian space program, as well as aeronautics and aerospace research. NASA have many launch facilities but most are inactive. The most commonly used pad will be LC-39B at Kennedy Space Center in Florida.',\n",
       "    'administrator': 'Administrator: Bill Nelson',\n",
       "    'founding_year': '1958',\n",
       "    'launchers': 'Space Shuttle | SLS',\n",
       "    'spacecraft': 'Orion',\n",
       "    'parent': None,\n",
       "    'image_url': 'https://spacelaunchnow-prod-east.nyc3.digitaloceanspaces.com/media/agency_images/national2520aeronautics2520and2520space2520administration_image_20190207032448.jpeg',\n",
       "    'logo_url': 'https://spacelaunchnow-prod-east.nyc3.digitaloceanspaces.com/media/logo/national2520aeronautics2520and2520space2520administration_logo_20190207032448.png'},\n",
       "   'profile_image': 'https://spacelaunchnow-prod-east.nyc3.digitaloceanspaces.com/media/astronaut_images/nick_hague_image_20220911034312.jpeg',\n",
       "   'profile_image_thumbnail': 'https://spacelaunchnow-prod-east.nyc3.digitaloceanspaces.com/media/astronaut_images/nick_hague_thumbnail_20220911034312.jpeg',\n",
       "   'flights_count': 2,\n",
       "   'landings_count': 2,\n",
       "   'spacewalks_count': 3,\n",
       "   'last_flight': '2019-03-14T19:14:08Z',\n",
       "   'first_flight': '2018-10-11T08:40:15Z'},\n",
       "  {'id': 10,\n",
       "   'url': 'https://ll.thespacedevs.com/2.2.0/astronaut/10/',\n",
       "   'name': 'Terry W. Virts',\n",
       "   'status': {'id': 2, 'name': 'Retired'},\n",
       "   'type': {'id': 2, 'name': 'Government'},\n",
       "   'in_space': False,\n",
       "   'time_in_space': 'P213DT10H50M46S',\n",
       "   'eva_time': 'PT19H2M',\n",
       "   'age': 56,\n",
       "   'date_of_birth': '1967-12-01',\n",
       "   'date_of_death': None,\n",
       "   'nationality': 'American',\n",
       "   'bio': 'Terry W. Virts Jr. is a former NASA astronaut, and Colonel in the United States Air Force.',\n",
       "   'twitter': 'https://twitter.com/AstroTerry',\n",
       "   'instagram': 'https://www.instagram.com/astro_terry/',\n",
       "   'wiki': 'https://en.wikipedia.org/wiki/Terry_W._Virts',\n",
       "   'agency': {'id': 44,\n",
       "    'url': 'https://ll.thespacedevs.com/2.2.0/agencies/44/',\n",
       "    'name': 'National Aeronautics and Space Administration',\n",
       "    'featured': True,\n",
       "    'type': 'Government',\n",
       "    'country_code': 'USA',\n",
       "    'abbrev': 'NASA',\n",
       "    'description': 'The National Aeronautics and Space Administration is an independent agency of the executive branch of the United States federal government responsible for the civilian space program, as well as aeronautics and aerospace research. NASA have many launch facilities but most are inactive. The most commonly used pad will be LC-39B at Kennedy Space Center in Florida.',\n",
       "    'administrator': 'Administrator: Bill Nelson',\n",
       "    'founding_year': '1958',\n",
       "    'launchers': 'Space Shuttle | SLS',\n",
       "    'spacecraft': 'Orion',\n",
       "    'parent': None,\n",
       "    'image_url': 'https://spacelaunchnow-prod-east.nyc3.digitaloceanspaces.com/media/agency_images/national2520aeronautics2520and2520space2520administration_image_20190207032448.jpeg',\n",
       "    'logo_url': 'https://spacelaunchnow-prod-east.nyc3.digitaloceanspaces.com/media/logo/national2520aeronautics2520and2520space2520administration_logo_20190207032448.png'},\n",
       "   'profile_image': 'https://spacelaunchnow-prod-east.nyc3.digitaloceanspaces.com/media/astronaut_images/terry_w._virts_image_20220911033815.jpeg',\n",
       "   'profile_image_thumbnail': 'https://spacelaunchnow-prod-east.nyc3.digitaloceanspaces.com/media/astronaut_images/terry_w._virts_thumbnail_20220911033815.jpeg',\n",
       "   'flights_count': 2,\n",
       "   'landings_count': 2,\n",
       "   'spacewalks_count': 3,\n",
       "   'last_flight': '2014-11-23T21:01:14Z',\n",
       "   'first_flight': '2010-02-08T09:14:00Z'}]}"
      ]
     },
     "execution_count": 25,
     "metadata": {},
     "output_type": "execute_result"
    }
   ],
   "source": [
    "print(response.status_code)\n",
    "type(response.content)\n",
    "response.json()"
   ]
  },
  {
   "cell_type": "code",
   "execution_count": 29,
   "metadata": {},
   "outputs": [],
   "source": [
    "url_total = space_url + path + \"/?nationality=Cuban\"\n",
    "\n",
    "response = requests.get(url_total)"
   ]
  },
  {
   "cell_type": "markdown",
   "metadata": {},
   "source": []
  },
  {
   "cell_type": "code",
   "execution_count": 27,
   "metadata": {},
   "outputs": [
    {
     "data": {
      "text/plain": [
       "'http://ll.thespacedevs.com/2.2.0/astronaut/?nationality=Cuban'"
      ]
     },
     "execution_count": 27,
     "metadata": {},
     "output_type": "execute_result"
    }
   ],
   "source": [
    "url_total"
   ]
  },
  {
   "cell_type": "code",
   "execution_count": 30,
   "metadata": {
    "tags": []
   },
   "outputs": [
    {
     "data": {
      "text/plain": [
       "{'count': 1,\n",
       " 'next': None,\n",
       " 'previous': None,\n",
       " 'results': [{'id': 261,\n",
       "   'url': 'https://ll.thespacedevs.com/2.2.0/astronaut/261/',\n",
       "   'name': 'Arnaldo Tamayo Méndez',\n",
       "   'status': {'id': 2, 'name': 'Retired'},\n",
       "   'type': {'id': 2, 'name': 'Government'},\n",
       "   'in_space': False,\n",
       "   'time_in_space': 'P7DT20H43M24S',\n",
       "   'eva_time': 'P0D',\n",
       "   'age': 81,\n",
       "   'date_of_birth': '1942-01-29',\n",
       "   'date_of_death': None,\n",
       "   'nationality': 'Cuban',\n",
       "   'bio': 'Arnaldo Tamayo Méndez (born January 29, 1942) is a Cuban military officer, legislator, and former cosmonaut and the first person of African heritage in space. As a member of the crew of Soyuz 38, he became the first Cuban citizen and the first person from a country in the Western Hemisphere other than the United States to travel into Earth orbit.',\n",
       "   'twitter': None,\n",
       "   'instagram': None,\n",
       "   'wiki': 'https://en.wikipedia.org/wiki/Arnaldo_Tamayo_M%C3%A9ndez',\n",
       "   'agency': {'id': 63,\n",
       "    'url': 'https://ll.thespacedevs.com/2.2.0/agencies/63/',\n",
       "    'name': 'Russian Federal Space Agency (ROSCOSMOS)',\n",
       "    'featured': True,\n",
       "    'type': 'Government',\n",
       "    'country_code': 'RUS',\n",
       "    'abbrev': 'RFSA',\n",
       "    'description': 'The Roscosmos State Corporation for Space Activities, commonly known as Roscosmos, is the governmental body responsible for the space science program of the Russian Federation and general aerospace research. Soyuz has many launch locations the Russian sites are Baikonur, Plesetsk and Vostochny however Ariane also purchases the vehicle and launches it from French Guiana.',\n",
       "    'administrator': 'Administrator: Yuri Borisov',\n",
       "    'founding_year': '1992',\n",
       "    'launchers': 'Soyuz',\n",
       "    'spacecraft': 'Soyuz',\n",
       "    'parent': None,\n",
       "    'image_url': 'https://spacelaunchnow-prod-east.nyc3.digitaloceanspaces.com/media/agency_images/russian2520federal2520space2520agency25202528roscosmos2529_image_20190207032459.jpeg',\n",
       "    'logo_url': 'https://spacelaunchnow-prod-east.nyc3.digitaloceanspaces.com/media/logo/russian2520federal2520space2520agency25202528roscosmos2529_logo_20190207032459.png'},\n",
       "   'profile_image': 'https://spacelaunchnow-prod-east.nyc3.digitaloceanspaces.com/media/astronaut_images/arnaldo2520tamayo2520m25c325a9ndez_image_20181201221921.jpg',\n",
       "   'profile_image_thumbnail': 'https://spacelaunchnow-prod-east.nyc3.digitaloceanspaces.com/media/astronaut_images/arnaldo_tamayo__thumbnail_20220911034351.jpeg',\n",
       "   'flights_count': 1,\n",
       "   'landings_count': 1,\n",
       "   'spacewalks_count': 0,\n",
       "   'last_flight': '1980-09-18T19:11:03Z',\n",
       "   'first_flight': '1980-09-18T19:11:03Z'}]}"
      ]
     },
     "execution_count": 30,
     "metadata": {},
     "output_type": "execute_result"
    }
   ],
   "source": [
    "response.json()"
   ]
  },
  {
   "cell_type": "code",
   "execution_count": null,
   "metadata": {},
   "outputs": [],
   "source": []
  }
 ],
 "metadata": {
  "colab": {
   "name": "1-DataAccess.ipynb",
   "provenance": []
  },
  "interpreter": {
   "hash": "7c77fdb427e7cbc9bc1367dd530fc2b36aacdbbde1ac83c85833b10dfa8b831c"
  },
  "kernelspec": {
   "display_name": "Python 3.7.4 64-bit",
   "name": "python3"
  },
  "language_info": {
   "codemirror_mode": {
    "name": "ipython",
    "version": 3
   },
   "file_extension": ".py",
   "mimetype": "text/x-python",
   "name": "python",
   "nbconvert_exporter": "python",
   "pygments_lexer": "ipython3",
   "version": "3.8.10"
  }
 },
 "nbformat": 4,
 "nbformat_minor": 4
}
